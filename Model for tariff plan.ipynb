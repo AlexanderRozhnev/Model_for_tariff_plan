{
 "cells": [
  {
   "cell_type": "markdown",
   "metadata": {},
   "source": [
    "# Рекомендация тарифов"
   ]
  },
  {
   "cell_type": "markdown",
   "metadata": {},
   "source": [
    "В вашем распоряжении данные о поведении клиентов, которые уже перешли на эти тарифы (из проекта курса «Статистический анализ данных»). Нужно построить модель для задачи классификации, которая выберет подходящий тариф. Предобработка данных не понадобится — вы её уже сделали.\n",
    "\n",
    "Постройте модель с максимально большим значением *accuracy*. Чтобы сдать проект успешно, нужно довести долю правильных ответов по крайней мере до 0.75. Проверьте *accuracy* на тестовой выборке самостоятельно."
   ]
  },
  {
   "cell_type": "markdown",
   "metadata": {},
   "source": [
    "## Откройте и изучите файл"
   ]
  },
  {
   "cell_type": "code",
   "execution_count": 1,
   "metadata": {},
   "outputs": [],
   "source": [
    "# импорт библиотек\n",
    "import pandas as pd\n",
    "\n",
    "from sklearn.preprocessing import StandardScaler\n",
    "\n",
    "from sklearn.model_selection import train_test_split\n",
    "from sklearn.tree import DecisionTreeClassifier\n",
    "from sklearn.ensemble import RandomForestClassifier\n",
    "from sklearn.linear_model import LogisticRegression\n",
    "from sklearn.metrics import accuracy_score \n",
    "\n",
    "import numpy as np\n",
    "import matplotlib.pyplot as plt\n",
    "import seaborn as sns"
   ]
  },
  {
   "cell_type": "code",
   "execution_count": 2,
   "metadata": {},
   "outputs": [],
   "source": [
    "# загрузка данных\n",
    "try:\n",
    "    data = pd.read_csv('/datasets/users_behavior.csv')\n",
    "except:\n",
    "    data = pd.read_csv('https://code.s3.yandex.net/datasets/users_behavior.csv')"
   ]
  },
  {
   "cell_type": "code",
   "execution_count": 3,
   "metadata": {},
   "outputs": [],
   "source": [
    "# изучение общей информации таблиц будем делать по сценарию\n",
    "def show_info(table):\n",
    "    \n",
    "    # общая информация\n",
    "    table.info()\n",
    "    \n",
    "    # проверка наименований столбцов\n",
    "    print('\\nНаименования столбцов:')\n",
    "    print(table.columns)\n",
    "    \n",
    "    # пропущенные значения\n",
    "    print('\\nПропущенные значения:')\n",
    "    total_entries = table.shape[0]\n",
    "    na_columns = table.isnull().sum().reset_index().rename(columns = {'index': 'column', 0: 'nan_qty'}, inplace = False)\n",
    "    na_columns['na_percent'] = round((na_columns['nan_qty'] / total_entries * 100), 1)\n",
    "    display(na_columns)\n",
    "    \n",
    "    # полные дубликаты\n",
    "    print('\\nПолные дубликаты:', table.duplicated().sum())\n",
    "    \n",
    "    # голова таблицы\n",
    "    print('\\nНачало таблицы данных:')\n",
    "    display(table.head(5))"
   ]
  },
  {
   "cell_type": "code",
   "execution_count": 4,
   "metadata": {},
   "outputs": [
    {
     "name": "stdout",
     "output_type": "stream",
     "text": [
      "<class 'pandas.core.frame.DataFrame'>\n",
      "RangeIndex: 3214 entries, 0 to 3213\n",
      "Data columns (total 5 columns):\n",
      " #   Column    Non-Null Count  Dtype  \n",
      "---  ------    --------------  -----  \n",
      " 0   calls     3214 non-null   float64\n",
      " 1   minutes   3214 non-null   float64\n",
      " 2   messages  3214 non-null   float64\n",
      " 3   mb_used   3214 non-null   float64\n",
      " 4   is_ultra  3214 non-null   int64  \n",
      "dtypes: float64(4), int64(1)\n",
      "memory usage: 125.7 KB\n",
      "\n",
      "Наименования столбцов:\n",
      "Index(['calls', 'minutes', 'messages', 'mb_used', 'is_ultra'], dtype='object')\n",
      "\n",
      "Пропущенные значения:\n"
     ]
    },
    {
     "data": {
      "text/html": [
       "<div>\n",
       "<style scoped>\n",
       "    .dataframe tbody tr th:only-of-type {\n",
       "        vertical-align: middle;\n",
       "    }\n",
       "\n",
       "    .dataframe tbody tr th {\n",
       "        vertical-align: top;\n",
       "    }\n",
       "\n",
       "    .dataframe thead th {\n",
       "        text-align: right;\n",
       "    }\n",
       "</style>\n",
       "<table border=\"1\" class=\"dataframe\">\n",
       "  <thead>\n",
       "    <tr style=\"text-align: right;\">\n",
       "      <th></th>\n",
       "      <th>column</th>\n",
       "      <th>nan_qty</th>\n",
       "      <th>na_percent</th>\n",
       "    </tr>\n",
       "  </thead>\n",
       "  <tbody>\n",
       "    <tr>\n",
       "      <th>0</th>\n",
       "      <td>calls</td>\n",
       "      <td>0</td>\n",
       "      <td>0.0</td>\n",
       "    </tr>\n",
       "    <tr>\n",
       "      <th>1</th>\n",
       "      <td>minutes</td>\n",
       "      <td>0</td>\n",
       "      <td>0.0</td>\n",
       "    </tr>\n",
       "    <tr>\n",
       "      <th>2</th>\n",
       "      <td>messages</td>\n",
       "      <td>0</td>\n",
       "      <td>0.0</td>\n",
       "    </tr>\n",
       "    <tr>\n",
       "      <th>3</th>\n",
       "      <td>mb_used</td>\n",
       "      <td>0</td>\n",
       "      <td>0.0</td>\n",
       "    </tr>\n",
       "    <tr>\n",
       "      <th>4</th>\n",
       "      <td>is_ultra</td>\n",
       "      <td>0</td>\n",
       "      <td>0.0</td>\n",
       "    </tr>\n",
       "  </tbody>\n",
       "</table>\n",
       "</div>"
      ],
      "text/plain": [
       "     column  nan_qty  na_percent\n",
       "0     calls        0         0.0\n",
       "1   minutes        0         0.0\n",
       "2  messages        0         0.0\n",
       "3   mb_used        0         0.0\n",
       "4  is_ultra        0         0.0"
      ]
     },
     "metadata": {},
     "output_type": "display_data"
    },
    {
     "name": "stdout",
     "output_type": "stream",
     "text": [
      "\n",
      "Полные дубликаты: 0\n",
      "\n",
      "Начало таблицы данных:\n"
     ]
    },
    {
     "data": {
      "text/html": [
       "<div>\n",
       "<style scoped>\n",
       "    .dataframe tbody tr th:only-of-type {\n",
       "        vertical-align: middle;\n",
       "    }\n",
       "\n",
       "    .dataframe tbody tr th {\n",
       "        vertical-align: top;\n",
       "    }\n",
       "\n",
       "    .dataframe thead th {\n",
       "        text-align: right;\n",
       "    }\n",
       "</style>\n",
       "<table border=\"1\" class=\"dataframe\">\n",
       "  <thead>\n",
       "    <tr style=\"text-align: right;\">\n",
       "      <th></th>\n",
       "      <th>calls</th>\n",
       "      <th>minutes</th>\n",
       "      <th>messages</th>\n",
       "      <th>mb_used</th>\n",
       "      <th>is_ultra</th>\n",
       "    </tr>\n",
       "  </thead>\n",
       "  <tbody>\n",
       "    <tr>\n",
       "      <th>0</th>\n",
       "      <td>40.0</td>\n",
       "      <td>311.90</td>\n",
       "      <td>83.0</td>\n",
       "      <td>19915.42</td>\n",
       "      <td>0</td>\n",
       "    </tr>\n",
       "    <tr>\n",
       "      <th>1</th>\n",
       "      <td>85.0</td>\n",
       "      <td>516.75</td>\n",
       "      <td>56.0</td>\n",
       "      <td>22696.96</td>\n",
       "      <td>0</td>\n",
       "    </tr>\n",
       "    <tr>\n",
       "      <th>2</th>\n",
       "      <td>77.0</td>\n",
       "      <td>467.66</td>\n",
       "      <td>86.0</td>\n",
       "      <td>21060.45</td>\n",
       "      <td>0</td>\n",
       "    </tr>\n",
       "    <tr>\n",
       "      <th>3</th>\n",
       "      <td>106.0</td>\n",
       "      <td>745.53</td>\n",
       "      <td>81.0</td>\n",
       "      <td>8437.39</td>\n",
       "      <td>1</td>\n",
       "    </tr>\n",
       "    <tr>\n",
       "      <th>4</th>\n",
       "      <td>66.0</td>\n",
       "      <td>418.74</td>\n",
       "      <td>1.0</td>\n",
       "      <td>14502.75</td>\n",
       "      <td>0</td>\n",
       "    </tr>\n",
       "  </tbody>\n",
       "</table>\n",
       "</div>"
      ],
      "text/plain": [
       "   calls  minutes  messages   mb_used  is_ultra\n",
       "0   40.0   311.90      83.0  19915.42         0\n",
       "1   85.0   516.75      56.0  22696.96         0\n",
       "2   77.0   467.66      86.0  21060.45         0\n",
       "3  106.0   745.53      81.0   8437.39         1\n",
       "4   66.0   418.74       1.0  14502.75         0"
      ]
     },
     "metadata": {},
     "output_type": "display_data"
    }
   ],
   "source": [
    "show_info(data)"
   ]
  },
  {
   "cell_type": "markdown",
   "metadata": {},
   "source": [
    "### Вывод по общим данным файла\n",
    "По условиям задача предобрабока данных считается выполненной (в предыдущих работах).  \n",
    "\n",
    "Данные содержат 3214 записи.  \n",
    "Наименования столбцов корректны.  \n",
    "Пропущенных данных не обнаружено. \n",
    "Типы данных корректны.  \n",
    "Полных (явных) дубликатов не обнаружено.  \n",
    "\n",
    "**Описание данных**  \n",
    "Каждый объект в наборе данных — это информация о поведении одного пользователя за месяц.  \n",
    "Известно:\n",
    "- `сalls` — количество звонков,\n",
    "- `minutes` — суммарная длительность звонков в минутах,\n",
    "- `messages` — количество sms-сообщений,\n",
    "- `mb_used` — израсходованный интернет-трафик в Мб,\n",
    "- `is_ultra` — каким тарифом пользовался в течение месяца («Ультра» — 1, «Смарт» — 0)"
   ]
  },
  {
   "cell_type": "markdown",
   "metadata": {},
   "source": [
    "### Выделение признаков модели\n",
    "Разрабатываемая модель должна отвечать на вопрос какой из двух тарифов `\"Смарт\"` или `\"Ультра\"` подходит клиенту на основе его истории поведения.  \n",
    "Таким образом мы имеем дело с задачей *бинарной классификации*.  \n",
    "\n",
    "**Признаки**\n",
    "- `сalls` — количество звонков,\n",
    "- `minutes` — суммарная длительность звонков в минутах,\n",
    "- `messages` — количество sms-сообщений,\n",
    "- `mb_used` — израсходованный интернет-трафик в Мб  \n",
    "\n",
    "**Целевой признак**\n",
    "- `is_ultra` — каким тарифом пользовался в течение месяца («Ультра» — 1, «Смарт» — 0)"
   ]
  },
  {
   "cell_type": "code",
   "execution_count": 5,
   "metadata": {},
   "outputs": [],
   "source": [
    "# признаки\n",
    "features = data.drop(['is_ultra'], axis=1)\n",
    "\n",
    "# целевой признак\n",
    "target = data['is_ultra']"
   ]
  },
  {
   "cell_type": "code",
   "execution_count": 6,
   "metadata": {},
   "outputs": [
    {
     "data": {
      "image/png": "[encoded data removed]",
      "text/plain": [
       "<Figure size 1152x288 with 4 Axes>"
      ]
     },
     "metadata": {},
     "output_type": "display_data"
    }
   ],
   "source": [
    "# признаки графически\n",
    "sns.set_style(\"whitegrid\")\n",
    "\n",
    "feature_names = features.columns\n",
    "target_name = 'is_ultra'\n",
    "\n",
    "fig, axes = plt.subplots(1, len(feature_names), figsize = (16, 4));\n",
    "fig.suptitle('Признаки модели')\n",
    "\n",
    "i = 0\n",
    "for feature_name in feature_names:\n",
    "    v = sns.violinplot(x= target_name, y= feature_name, split= True, data= data, ax= axes[i]);\n",
    "    v.set_title(feature_name)\n",
    "    v.set_ylabel(\"\")\n",
    "    v.set_xlabel(\"\")\n",
    "    v.set_xticklabels(['Smart','Ultra'])\n",
    "    i += 1\n",
    "\n",
    "plt.show();"
   ]
  },
  {
   "cell_type": "markdown",
   "metadata": {},
   "source": [
    "**Тариф Smart**"
   ]
  },
  {
   "cell_type": "code",
   "execution_count": 7,
   "metadata": {},
   "outputs": [
    {
     "name": "stdout",
     "output_type": "stream",
     "text": [
      "Тариф Smart\n"
     ]
    },
    {
     "data": {
      "text/html": [
       "<style  type=\"text/css\" >\n",
       "</style><table id=\"T_ce0e2_\" ><thead>    <tr>        <th class=\"blank level0\" ></th>        <th class=\"col_heading level0 col0\" >calls</th>        <th class=\"col_heading level0 col1\" >minutes</th>        <th class=\"col_heading level0 col2\" >messages</th>        <th class=\"col_heading level0 col3\" >mb_used</th>    </tr></thead><tbody>\n",
       "                <tr>\n",
       "                        <th id=\"T_ce0e2_level0_row0\" class=\"row_heading level0 row0\" >count</th>\n",
       "                        <td id=\"T_ce0e2_row0_col0\" class=\"data row0 col0\" >2,229.00</td>\n",
       "                        <td id=\"T_ce0e2_row0_col1\" class=\"data row0 col1\" >2,229.00</td>\n",
       "                        <td id=\"T_ce0e2_row0_col2\" class=\"data row0 col2\" >2,229.00</td>\n",
       "                        <td id=\"T_ce0e2_row0_col3\" class=\"data row0 col3\" >2,229.00</td>\n",
       "            </tr>\n",
       "            <tr>\n",
       "                        <th id=\"T_ce0e2_level0_row1\" class=\"row_heading level0 row1\" >min</th>\n",
       "                        <td id=\"T_ce0e2_row1_col0\" class=\"data row1 col0\" >0.00</td>\n",
       "                        <td id=\"T_ce0e2_row1_col1\" class=\"data row1 col1\" >0.00</td>\n",
       "                        <td id=\"T_ce0e2_row1_col2\" class=\"data row1 col2\" >0.00</td>\n",
       "                        <td id=\"T_ce0e2_row1_col3\" class=\"data row1 col3\" >0.00</td>\n",
       "            </tr>\n",
       "            <tr>\n",
       "                        <th id=\"T_ce0e2_level0_row2\" class=\"row_heading level0 row2\" >max</th>\n",
       "                        <td id=\"T_ce0e2_row2_col0\" class=\"data row2 col0\" >198.00</td>\n",
       "                        <td id=\"T_ce0e2_row2_col1\" class=\"data row2 col1\" >1,390.22</td>\n",
       "                        <td id=\"T_ce0e2_row2_col2\" class=\"data row2 col2\" >143.00</td>\n",
       "                        <td id=\"T_ce0e2_row2_col3\" class=\"data row2 col3\" >38,552.62</td>\n",
       "            </tr>\n",
       "            <tr>\n",
       "                        <th id=\"T_ce0e2_level0_row3\" class=\"row_heading level0 row3\" >median</th>\n",
       "                        <td id=\"T_ce0e2_row3_col0\" class=\"data row3 col0\" >60.00</td>\n",
       "                        <td id=\"T_ce0e2_row3_col1\" class=\"data row3 col1\" >410.56</td>\n",
       "                        <td id=\"T_ce0e2_row3_col2\" class=\"data row3 col2\" >28.00</td>\n",
       "                        <td id=\"T_ce0e2_row3_col3\" class=\"data row3 col3\" >16,506.93</td>\n",
       "            </tr>\n",
       "    </tbody></table>"
      ],
      "text/plain": [
       "<pandas.io.formats.style.Styler at 0x7fee530f0eb0>"
      ]
     },
     "metadata": {},
     "output_type": "display_data"
    }
   ],
   "source": [
    "print(\"Тариф Smart\")\n",
    "display(data\n",
    "        .query('is_ultra == 0')[feature_names]\n",
    "        .apply (['count', 'min', 'max', 'median'])\n",
    "        .style.format(\"{:,.2f}\")\n",
    "       )"
   ]
  },
  {
   "cell_type": "markdown",
   "metadata": {},
   "source": [
    "**Тариф Ultra**"
   ]
  },
  {
   "cell_type": "code",
   "execution_count": 8,
   "metadata": {},
   "outputs": [
    {
     "name": "stdout",
     "output_type": "stream",
     "text": [
      "Тариф Ultra\n"
     ]
    },
    {
     "data": {
      "text/html": [
       "<style  type=\"text/css\" >\n",
       "</style><table id=\"T_77b32_\" ><thead>    <tr>        <th class=\"blank level0\" ></th>        <th class=\"col_heading level0 col0\" >calls</th>        <th class=\"col_heading level0 col1\" >minutes</th>        <th class=\"col_heading level0 col2\" >messages</th>        <th class=\"col_heading level0 col3\" >mb_used</th>    </tr></thead><tbody>\n",
       "                <tr>\n",
       "                        <th id=\"T_77b32_level0_row0\" class=\"row_heading level0 row0\" >count</th>\n",
       "                        <td id=\"T_77b32_row0_col0\" class=\"data row0 col0\" >985.00</td>\n",
       "                        <td id=\"T_77b32_row0_col1\" class=\"data row0 col1\" >985.00</td>\n",
       "                        <td id=\"T_77b32_row0_col2\" class=\"data row0 col2\" >985.00</td>\n",
       "                        <td id=\"T_77b32_row0_col3\" class=\"data row0 col3\" >985.00</td>\n",
       "            </tr>\n",
       "            <tr>\n",
       "                        <th id=\"T_77b32_level0_row1\" class=\"row_heading level0 row1\" >min</th>\n",
       "                        <td id=\"T_77b32_row1_col0\" class=\"data row1 col0\" >0.00</td>\n",
       "                        <td id=\"T_77b32_row1_col1\" class=\"data row1 col1\" >0.00</td>\n",
       "                        <td id=\"T_77b32_row1_col2\" class=\"data row1 col2\" >0.00</td>\n",
       "                        <td id=\"T_77b32_row1_col3\" class=\"data row1 col3\" >0.00</td>\n",
       "            </tr>\n",
       "            <tr>\n",
       "                        <th id=\"T_77b32_level0_row2\" class=\"row_heading level0 row2\" >max</th>\n",
       "                        <td id=\"T_77b32_row2_col0\" class=\"data row2 col0\" >244.00</td>\n",
       "                        <td id=\"T_77b32_row2_col1\" class=\"data row2 col1\" >1,632.06</td>\n",
       "                        <td id=\"T_77b32_row2_col2\" class=\"data row2 col2\" >224.00</td>\n",
       "                        <td id=\"T_77b32_row2_col3\" class=\"data row2 col3\" >49,745.73</td>\n",
       "            </tr>\n",
       "            <tr>\n",
       "                        <th id=\"T_77b32_level0_row3\" class=\"row_heading level0 row3\" >median</th>\n",
       "                        <td id=\"T_77b32_row3_col0\" class=\"data row3 col0\" >74.00</td>\n",
       "                        <td id=\"T_77b32_row3_col1\" class=\"data row3 col1\" >502.55</td>\n",
       "                        <td id=\"T_77b32_row3_col2\" class=\"data row3 col2\" >38.00</td>\n",
       "                        <td id=\"T_77b32_row3_col3\" class=\"data row3 col3\" >19,308.01</td>\n",
       "            </tr>\n",
       "    </tbody></table>"
      ],
      "text/plain": [
       "<pandas.io.formats.style.Styler at 0x7fedc1c68e20>"
      ]
     },
     "metadata": {},
     "output_type": "display_data"
    }
   ],
   "source": [
    "print(\"Тариф Ultra\")\n",
    "display(data\n",
    "        .query('is_ultra == 1')[feature_names]\n",
    "        .apply (['count', 'min', 'max', 'median'])   \n",
    "        .style.format(\"{:,.2f}\")\n",
    "       )"
   ]
  },
  {
   "cell_type": "markdown",
   "metadata": {},
   "source": [
    "**Корреляция между параметрами и тарифным планом**"
   ]
  },
  {
   "cell_type": "code",
   "execution_count": 9,
   "metadata": {},
   "outputs": [
    {
     "name": "stdout",
     "output_type": "stream",
     "text": [
      "Корреляция между параметрами и тарифным планом\n"
     ]
    },
    {
     "data": {
      "text/html": [
       "<style  type=\"text/css\" >\n",
       "</style><table id=\"T_0d4ab_\" ><thead>    <tr>        <th class=\"blank level0\" ></th>        <th class=\"col_heading level0 col0\" >feature_name</th>        <th class=\"col_heading level0 col1\" >feature_correlation</th>    </tr></thead><tbody>\n",
       "                <tr>\n",
       "                        <th id=\"T_0d4ab_level0_row0\" class=\"row_heading level0 row0\" >0</th>\n",
       "                        <td id=\"T_0d4ab_row0_col0\" class=\"data row0 col0\" >calls</td>\n",
       "                        <td id=\"T_0d4ab_row0_col1\" class=\"data row0 col1\" >0.207</td>\n",
       "            </tr>\n",
       "            <tr>\n",
       "                        <th id=\"T_0d4ab_level0_row1\" class=\"row_heading level0 row1\" >1</th>\n",
       "                        <td id=\"T_0d4ab_row1_col0\" class=\"data row1 col0\" >minutes</td>\n",
       "                        <td id=\"T_0d4ab_row1_col1\" class=\"data row1 col1\" >0.207</td>\n",
       "            </tr>\n",
       "            <tr>\n",
       "                        <th id=\"T_0d4ab_level0_row2\" class=\"row_heading level0 row2\" >2</th>\n",
       "                        <td id=\"T_0d4ab_row2_col0\" class=\"data row2 col0\" >messages</td>\n",
       "                        <td id=\"T_0d4ab_row2_col1\" class=\"data row2 col1\" >0.204</td>\n",
       "            </tr>\n",
       "            <tr>\n",
       "                        <th id=\"T_0d4ab_level0_row3\" class=\"row_heading level0 row3\" >3</th>\n",
       "                        <td id=\"T_0d4ab_row3_col0\" class=\"data row3 col0\" >mb_used</td>\n",
       "                        <td id=\"T_0d4ab_row3_col1\" class=\"data row3 col1\" >0.199</td>\n",
       "            </tr>\n",
       "    </tbody></table>"
      ],
      "text/plain": [
       "<pandas.io.formats.style.Styler at 0x7fedcbe19fa0>"
      ]
     },
     "metadata": {},
     "output_type": "display_data"
    }
   ],
   "source": [
    "features_corr = pd.DataFrame(columns= ['feature_name','feature_correlation'])\n",
    "\n",
    "for feature_name in feature_names:\n",
    "    correlation = data[feature_name].corr(data[target_name])\n",
    "    features_corr = features_corr.append({'feature_name':feature_name,'feature_correlation': correlation}, ignore_index=True)\n",
    "\n",
    "print('Корреляция между параметрами и тарифным планом')\n",
    "display(features_corr.style.format(\"{:,.3f}\", subset=['feature_correlation']))"
   ]
  },
  {
   "cell_type": "markdown",
   "metadata": {},
   "source": [
    "### Вывод по выделенным признакам\n",
    "\n",
    "Выбранные признаки имеют различия в характере распределения. Имеют отличающиеся статистики. Также, все имеют слабую положительную корреляцию с целевым признаком.  \n",
    "\n",
    "Наличие пусть и слабой корреляции делает обоснованным выбор признаков для обучения модели.  \n",
    "\n",
    "Пропорция целевых признаков 0 и 1 в исходной выборке не 50% на 50%, а перевешивает в пользу 0 (тариф Smart), что может сказаться на обучении модели. Нужно обратить на это внимание при проверке адекватности модели."
   ]
  },
  {
   "cell_type": "markdown",
   "metadata": {},
   "source": [
    "## Разбейте данные на выборки"
   ]
  },
  {
   "cell_type": "markdown",
   "metadata": {},
   "source": [
    "Данные разобъём на выборки в следующих пропорциях:\n",
    "- Обучающую - 60%\n",
    "- Валидационную - 20%\n",
    "- Тестовую - 20%"
   ]
  },
  {
   "cell_type": "code",
   "execution_count": 10,
   "metadata": {},
   "outputs": [
    {
     "name": "stdout",
     "output_type": "stream",
     "text": [
      "Размер обучающей выбороки: 1928, 60.0%\n",
      "Клиентов Smart: 1335, клиентов Ultra: 593. Соотношение Smart/Ultra: 2.251\n",
      "\n",
      "Размер валидирующей выбороки: 643, 20.0%\n",
      "Клиентов Smart: 440, клиентов Ultra: 203. Соотношение Smart/Ultra: 2.167\n",
      "\n",
      "Размер тестовой выбороки: 643, 20.0%\n",
      "Клиентов Smart: 454, клиентов Ultra: 189. Соотношение Smart/Ultra: 2.402\n"
     ]
    }
   ],
   "source": [
    "# размеры выборок\n",
    "valid_rate = 0.2\n",
    "test_rate = 0.2\n",
    "\n",
    "# разбиение\n",
    "features_train, features_valid, target_train, target_valid = (\n",
    "    train_test_split(features, target, test_size= valid_rate + test_rate, random_state= 12345)\n",
    ")\n",
    "\n",
    "features_test, features_valid, target_test, target_valid = (\n",
    "    train_test_split(features_valid, target_valid, test_size= valid_rate/(valid_rate + test_rate) , random_state= 12345)\n",
    ")\n",
    "\n",
    "# просто контрольные цифры\n",
    "print(\"Размер обучающей выбороки: {0}, {1}%\"\n",
    "      .format(features_train.shape[0], round(features_train.shape[0] / data.shape[0] * 100, 1)))\n",
    "print(\"Клиентов Smart: {0}, клиентов Ultra: {1}. Соотношение Smart/Ultra: {2}\\n\"\n",
    "      .format(target_train.value_counts()[0]\n",
    "              , target_train.value_counts()[1]\n",
    "              , round(target_train.value_counts()[0] / target_train.value_counts()[1], 3)))\n",
    "\n",
    "print(\"Размер валидирующей выбороки: {0}, {1}%\"\n",
    "      .format(features_valid.shape[0], round(features_valid.shape[0] / data.shape[0] * 100, 1)))\n",
    "print(\"Клиентов Smart: {0}, клиентов Ultra: {1}. Соотношение Smart/Ultra: {2}\\n\"\n",
    "      .format(target_valid.value_counts()[0]\n",
    "              , target_valid.value_counts()[1]\n",
    "              , round(target_valid.value_counts()[0] / target_valid.value_counts()[1], 3)))\n",
    "\n",
    "print(\"Размер тестовой выбороки: {0}, {1}%\"\n",
    "      .format(features_test.shape[0], round(features_test.shape[0] / data.shape[0] * 100, 1)))\n",
    "print(\"Клиентов Smart: {0}, клиентов Ultra: {1}. Соотношение Smart/Ultra: {2}\"\n",
    "      .format(target_test.value_counts()[0]\n",
    "              , target_test.value_counts()[1]\n",
    "              , round(target_test.value_counts()[0] / target_test.value_counts()[1], 3)))"
   ]
  },
  {
   "cell_type": "code",
   "execution_count": 11,
   "metadata": {},
   "outputs": [],
   "source": [
    "# Создание объекта для стандартизации данных\n",
    "scaler = StandardScaler()\n",
    "\n",
    "# Масштабирование обучающего набора данных\n",
    "f_index = features_train.index\n",
    "f_columns = features_train.columns\n",
    "features_train = scaler.fit_transform(features_train)\n",
    "features_train = pd.DataFrame(features_train, index=f_index, columns=f_columns)\n",
    "\n",
    "# Масштабирование тестового набора данных\n",
    "f_index = features_test.index\n",
    "f_columns = features_test.columns\n",
    "features_test = scaler.transform(features_test)\n",
    "features_test = pd.DataFrame(features_test, index=f_index, columns=f_columns)\n",
    "\n",
    "# Масштабирование валидирующего набора данных\n",
    "f_index = features_valid.index\n",
    "f_columns = features_valid.columns\n",
    "features_valid = scaler.transform(features_valid)\n",
    "features_valid = pd.DataFrame(features_valid, index=f_index, columns=f_columns)"
   ]
  },
  {
   "cell_type": "code",
   "execution_count": 12,
   "metadata": {},
   "outputs": [
    {
     "data": {
      "text/html": [
       "<style  type=\"text/css\" >\n",
       "</style><table id=\"T_ade34_\" ><thead>    <tr>        <th class=\"blank level0\" ></th>        <th class=\"col_heading level0 col0\" >calls</th>        <th class=\"col_heading level0 col1\" >minutes</th>        <th class=\"col_heading level0 col2\" >messages</th>        <th class=\"col_heading level0 col3\" >mb_used</th>    </tr></thead><tbody>\n",
       "                <tr>\n",
       "                        <th id=\"T_ade34_level0_row0\" class=\"row_heading level0 row0\" >count</th>\n",
       "                        <td id=\"T_ade34_row0_col0\" class=\"data row0 col0\" >1,928.00</td>\n",
       "                        <td id=\"T_ade34_row0_col1\" class=\"data row0 col1\" >1,928.00</td>\n",
       "                        <td id=\"T_ade34_row0_col2\" class=\"data row0 col2\" >1,928.00</td>\n",
       "                        <td id=\"T_ade34_row0_col3\" class=\"data row0 col3\" >1,928.00</td>\n",
       "            </tr>\n",
       "            <tr>\n",
       "                        <th id=\"T_ade34_level0_row1\" class=\"row_heading level0 row1\" >min</th>\n",
       "                        <td id=\"T_ade34_row1_col0\" class=\"data row1 col0\" >-1.92</td>\n",
       "                        <td id=\"T_ade34_row1_col1\" class=\"data row1 col1\" >-1.88</td>\n",
       "                        <td id=\"T_ade34_row1_col2\" class=\"data row1 col2\" >-1.07</td>\n",
       "                        <td id=\"T_ade34_row1_col3\" class=\"data row1 col3\" >-2.27</td>\n",
       "            </tr>\n",
       "            <tr>\n",
       "                        <th id=\"T_ade34_level0_row2\" class=\"row_heading level0 row2\" >max</th>\n",
       "                        <td id=\"T_ade34_row2_col0\" class=\"data row2 col0\" >4.11</td>\n",
       "                        <td id=\"T_ade34_row2_col1\" class=\"data row2 col1\" >4.10</td>\n",
       "                        <td id=\"T_ade34_row2_col2\" class=\"data row2 col2\" >4.41</td>\n",
       "                        <td id=\"T_ade34_row2_col3\" class=\"data row2 col3\" >3.64</td>\n",
       "            </tr>\n",
       "            <tr>\n",
       "                        <th id=\"T_ade34_level0_row3\" class=\"row_heading level0 row3\" >median</th>\n",
       "                        <td id=\"T_ade34_row3_col0\" class=\"data row3 col0\" >-0.03</td>\n",
       "                        <td id=\"T_ade34_row3_col1\" class=\"data row3 col1\" >-0.04</td>\n",
       "                        <td id=\"T_ade34_row3_col2\" class=\"data row3 col2\" >-0.22</td>\n",
       "                        <td id=\"T_ade34_row3_col3\" class=\"data row3 col3\" >-0.05</td>\n",
       "            </tr>\n",
       "    </tbody></table>"
      ],
      "text/plain": [
       "<pandas.io.formats.style.Styler at 0x7fedc1a92f40>"
      ]
     },
     "metadata": {},
     "output_type": "display_data"
    },
    {
     "data": {
      "text/html": [
       "<style  type=\"text/css\" >\n",
       "</style><table id=\"T_b6d68_\" ><thead>    <tr>        <th class=\"blank level0\" ></th>        <th class=\"col_heading level0 col0\" >calls</th>        <th class=\"col_heading level0 col1\" >minutes</th>        <th class=\"col_heading level0 col2\" >messages</th>        <th class=\"col_heading level0 col3\" >mb_used</th>    </tr></thead><tbody>\n",
       "                <tr>\n",
       "                        <th id=\"T_b6d68_level0_row0\" class=\"row_heading level0 row0\" >count</th>\n",
       "                        <td id=\"T_b6d68_row0_col0\" class=\"data row0 col0\" >643.00</td>\n",
       "                        <td id=\"T_b6d68_row0_col1\" class=\"data row0 col1\" >643.00</td>\n",
       "                        <td id=\"T_b6d68_row0_col2\" class=\"data row0 col2\" >643.00</td>\n",
       "                        <td id=\"T_b6d68_row0_col3\" class=\"data row0 col3\" >643.00</td>\n",
       "            </tr>\n",
       "            <tr>\n",
       "                        <th id=\"T_b6d68_level0_row1\" class=\"row_heading level0 row1\" >min</th>\n",
       "                        <td id=\"T_b6d68_row1_col0\" class=\"data row1 col0\" >-1.92</td>\n",
       "                        <td id=\"T_b6d68_row1_col1\" class=\"data row1 col1\" >-1.88</td>\n",
       "                        <td id=\"T_b6d68_row1_col2\" class=\"data row1 col2\" >-1.07</td>\n",
       "                        <td id=\"T_b6d68_row1_col3\" class=\"data row1 col3\" >-2.21</td>\n",
       "            </tr>\n",
       "            <tr>\n",
       "                        <th id=\"T_b6d68_level0_row2\" class=\"row_heading level0 row2\" >max</th>\n",
       "                        <td id=\"T_b6d68_row2_col0\" class=\"data row2 col0\" >5.51</td>\n",
       "                        <td id=\"T_b6d68_row2_col1\" class=\"data row2 col1\" >5.14</td>\n",
       "                        <td id=\"T_b6d68_row2_col2\" class=\"data row2 col2\" >5.04</td>\n",
       "                        <td id=\"T_b6d68_row2_col3\" class=\"data row2 col3\" >4.37</td>\n",
       "            </tr>\n",
       "            <tr>\n",
       "                        <th id=\"T_b6d68_level0_row3\" class=\"row_heading level0 row3\" >median</th>\n",
       "                        <td id=\"T_b6d68_row3_col0\" class=\"data row3 col0\" >0.00</td>\n",
       "                        <td id=\"T_b6d68_row3_col1\" class=\"data row3 col1\" >0.03</td>\n",
       "                        <td id=\"T_b6d68_row3_col2\" class=\"data row3 col2\" >-0.28</td>\n",
       "                        <td id=\"T_b6d68_row3_col3\" class=\"data row3 col3\" >0.03</td>\n",
       "            </tr>\n",
       "    </tbody></table>"
      ],
      "text/plain": [
       "<pandas.io.formats.style.Styler at 0x7fedc198df40>"
      ]
     },
     "metadata": {},
     "output_type": "display_data"
    },
    {
     "data": {
      "text/html": [
       "<style  type=\"text/css\" >\n",
       "</style><table id=\"T_c0794_\" ><thead>    <tr>        <th class=\"blank level0\" ></th>        <th class=\"col_heading level0 col0\" >calls</th>        <th class=\"col_heading level0 col1\" >minutes</th>        <th class=\"col_heading level0 col2\" >messages</th>        <th class=\"col_heading level0 col3\" >mb_used</th>    </tr></thead><tbody>\n",
       "                <tr>\n",
       "                        <th id=\"T_c0794_level0_row0\" class=\"row_heading level0 row0\" >count</th>\n",
       "                        <td id=\"T_c0794_row0_col0\" class=\"data row0 col0\" >643.00</td>\n",
       "                        <td id=\"T_c0794_row0_col1\" class=\"data row0 col1\" >643.00</td>\n",
       "                        <td id=\"T_c0794_row0_col2\" class=\"data row0 col2\" >643.00</td>\n",
       "                        <td id=\"T_c0794_row0_col3\" class=\"data row0 col3\" >643.00</td>\n",
       "            </tr>\n",
       "            <tr>\n",
       "                        <th id=\"T_c0794_level0_row1\" class=\"row_heading level0 row1\" >min</th>\n",
       "                        <td id=\"T_c0794_row1_col0\" class=\"data row1 col0\" >-1.92</td>\n",
       "                        <td id=\"T_c0794_row1_col1\" class=\"data row1 col1\" >-1.88</td>\n",
       "                        <td id=\"T_c0794_row1_col2\" class=\"data row1 col2\" >-1.07</td>\n",
       "                        <td id=\"T_c0794_row1_col3\" class=\"data row1 col3\" >-2.27</td>\n",
       "            </tr>\n",
       "            <tr>\n",
       "                        <th id=\"T_c0794_level0_row2\" class=\"row_heading level0 row2\" >max</th>\n",
       "                        <td id=\"T_c0794_row2_col0\" class=\"data row2 col0\" >4.26</td>\n",
       "                        <td id=\"T_c0794_row2_col1\" class=\"data row2 col1\" >4.86</td>\n",
       "                        <td id=\"T_c0794_row2_col2\" class=\"data row2 col2\" >5.01</td>\n",
       "                        <td id=\"T_c0794_row2_col3\" class=\"data row2 col3\" >3.76</td>\n",
       "            </tr>\n",
       "            <tr>\n",
       "                        <th id=\"T_c0794_level0_row3\" class=\"row_heading level0 row3\" >median</th>\n",
       "                        <td id=\"T_c0794_row3_col0\" class=\"data row3 col0\" >-0.06</td>\n",
       "                        <td id=\"T_c0794_row3_col1\" class=\"data row3 col1\" >-0.05</td>\n",
       "                        <td id=\"T_c0794_row3_col2\" class=\"data row3 col2\" >-0.33</td>\n",
       "                        <td id=\"T_c0794_row3_col3\" class=\"data row3 col3\" >0.04</td>\n",
       "            </tr>\n",
       "    </tbody></table>"
      ],
      "text/plain": [
       "<pandas.io.formats.style.Styler at 0x7fedc198d610>"
      ]
     },
     "metadata": {},
     "output_type": "display_data"
    }
   ],
   "source": [
    "display(features_train\n",
    "        .apply (['count', 'min', 'max', 'median'])   \n",
    "        .style.format(\"{:,.2f}\")\n",
    "       )\n",
    "\n",
    "display(features_test\n",
    "        .apply (['count', 'min', 'max', 'median'])   \n",
    "        .style.format(\"{:,.2f}\")\n",
    "       )\n",
    "\n",
    "display(features_valid\n",
    "        .apply (['count', 'min', 'max', 'median'])   \n",
    "        .style.format(\"{:,.2f}\")\n",
    "       )"
   ]
  },
  {
   "cell_type": "markdown",
   "metadata": {},
   "source": [
    "### Вывод по разбивке данных на выборки\n",
    "\n",
    "Данные разбиты в пропорциях:\n",
    "- Обучающую - 60%\n",
    "- Валидационную - 20%\n",
    "- Тестовую - 20%"
   ]
  },
  {
   "cell_type": "markdown",
   "metadata": {},
   "source": [
    "## Исследуйте модели"
   ]
  },
  {
   "cell_type": "markdown",
   "metadata": {},
   "source": [
    "### Дерево решений"
   ]
  },
  {
   "cell_type": "code",
   "execution_count": 13,
   "metadata": {},
   "outputs": [],
   "source": [
    "# обучить модель и получить качество модели (accuracy)\n",
    "def get_accuracy(model):\n",
    "    # обучение модели на обучающей выборке\n",
    "    model.fit(features_train, target_train)\n",
    "    \n",
    "    # качество модели на валидационной выборке\n",
    "    return model.score(features_valid, target_valid) # (test_samples, true_labels)"
   ]
  },
  {
   "cell_type": "code",
   "execution_count": 14,
   "metadata": {},
   "outputs": [
    {
     "name": "stdout",
     "output_type": "stream",
     "text": [
      "Accuracy наилучшей модели дерева решений на валидационной выборке: 0.8025\n",
      "Глубина дерева: 7 Критерий: gini Минимальное разделение выборок 2\n"
     ]
    }
   ],
   "source": [
    "# поиск лучшего max_depth для дерева решений\n",
    "\n",
    "criteries = ['gini', 'entropy']\n",
    "best_tree_model = None\n",
    "best_tree_result = 0\n",
    "best_tree_depth = 0\n",
    "\n",
    "tree = pd.DataFrame(columns= ['max_depth','accuracy'])\n",
    "\n",
    "for split in range(2,5):\n",
    "    for criterion in criteries:\n",
    "        for depth in range(1, 16):\n",
    "            # инициализация модели\n",
    "            model = DecisionTreeClassifier(criterion=criterion, max_depth=depth, min_samples_split=split, random_state=12345)\n",
    "            accuracy = get_accuracy(model)\n",
    "            tree = tree.append({'max_depth':depth, 'accuracy':accuracy, 'criterion':criterion, 'split':split}\n",
    "                               , ignore_index=True)\n",
    "    \n",
    "            if accuracy > best_tree_result:\n",
    "                best_tree_model = model\n",
    "                best_tree_result = accuracy\n",
    "                best_tree_depth = depth\n",
    "                best_criterion = criterion\n",
    "                best_min_samples_split = split\n",
    "\n",
    "print(\"Accuracy наилучшей модели дерева решений на валидационной выборке: {:.4f}\".format(best_tree_result))\n",
    "print(\"Глубина дерева:\", best_tree_depth, \"Критерий:\", best_criterion, \"Минимальное разделение выборок\", best_min_samples_split)"
   ]
  },
  {
   "cell_type": "code",
   "execution_count": 15,
   "metadata": {},
   "outputs": [
    {
     "data": {
      "image/png": "[encoded data removed]",
      "text/plain": [
       "<Figure size 576x288 with 1 Axes>"
      ]
     },
     "metadata": {},
     "output_type": "display_data"
    },
    {
     "data": {
      "image/png": "[encoded data removed]",
      "text/plain": [
       "<Figure size 576x288 with 1 Axes>"
      ]
     },
     "metadata": {},
     "output_type": "display_data"
    }
   ],
   "source": [
    "tree = tree.astype({'max_depth':'int'})\n",
    "\n",
    "sns.set_style(\"whitegrid\")\n",
    "plt.figure(figsize=(8, 4))\n",
    "b = sns.pointplot(data=tree, x='max_depth', y='accuracy', hue='criterion');\n",
    "b.set_title('Качество модели решающего дерева от max_depth и criterion')\n",
    "b.set_xlabel(\"Max_depth\", fontsize=11)\n",
    "b.set_ylabel(\"Accuracy\", fontsize=11)\n",
    "plt.show()\n",
    "\n",
    "plt.figure(figsize=(8, 4))\n",
    "b = sns.pointplot(data=tree, x='max_depth', y='accuracy', hue='split');\n",
    "b.set_title('Качество модели решающего дерева от max_depth и min_samples_split')\n",
    "b.set_xlabel(\"Max_depth\", fontsize=11)\n",
    "b.set_ylabel(\"Accuracy\", fontsize=11)\n",
    "plt.show()"
   ]
  },
  {
   "cell_type": "markdown",
   "metadata": {},
   "source": [
    "### Случайный лес"
   ]
  },
  {
   "cell_type": "code",
   "execution_count": 16,
   "metadata": {},
   "outputs": [
    {
     "name": "stdout",
     "output_type": "stream",
     "text": [
      "Accuracy наилучшей модели случайного леса на валидационной выборке: 0.81337\n",
      "Глубина дерева: 9 Est: 10\n"
     ]
    }
   ],
   "source": [
    "best_forest_model = None\n",
    "best_forest_result = 0\n",
    "best_forest_est = 0\n",
    "best_forest_depth = 0\n",
    "\n",
    "forest = pd.DataFrame(columns= ['est','max_depth','accuracy'])\n",
    "\n",
    "for est in range(10, 81, 10):\n",
    "    for depth in range (1, 16):\n",
    "        model = RandomForestClassifier(max_depth=depth, n_estimators=est, random_state=12345)\n",
    "        accuracy = get_accuracy(model)\n",
    "        forest = forest.append({'est':est,'max_depth':depth, 'accuracy':accuracy}, ignore_index=True)\n",
    "        if accuracy > best_forest_result:\n",
    "            best_forest_model = model\n",
    "            best_forest_result = accuracy\n",
    "            best_forest_depth = depth\n",
    "            best_forest_est = est\n",
    "\n",
    "print(\"Accuracy наилучшей модели случайного леса на валидационной выборке: {:.5f}\".format(best_forest_result))\n",
    "print(\"Глубина дерева:\", best_forest_depth, \"Est:\", best_forest_est)"
   ]
  },
  {
   "cell_type": "code",
   "execution_count": 17,
   "metadata": {
    "scrolled": true
   },
   "outputs": [
    {
     "data": {
      "image/png": "[encoded data removed]",
      "text/plain": [
       "<Figure size 504x288 with 1 Axes>"
      ]
     },
     "metadata": {},
     "output_type": "display_data"
    }
   ],
   "source": [
    "forest = forest.astype({'est':'int', 'max_depth':'int'})\n",
    "\n",
    "plt.figure(figsize=(7, 4))\n",
    "b = sns.lineplot(data=forest, x='max_depth', y='accuracy', hue='est');\n",
    "#b.set_ylim(.73, 1.0)\n",
    "b.set_title('Качество модели случайного леса от max_depth')\n",
    "b.set_xlabel(\"Max_depth\", fontsize=11)\n",
    "b.set_ylabel(\"Accuracy\", fontsize=11)\n",
    "plt.show()"
   ]
  },
  {
   "cell_type": "markdown",
   "metadata": {},
   "source": [
    "### Логистическая регрессия"
   ]
  },
  {
   "cell_type": "code",
   "execution_count": 18,
   "metadata": {},
   "outputs": [
    {
     "name": "stdout",
     "output_type": "stream",
     "text": [
      "Accuracy наилучшей модели логистической регрессии на валидационной выборке: 0.7418\n",
      "Максимальное кол-во итераций: 100\n"
     ]
    }
   ],
   "source": [
    "best_log_model = None\n",
    "best_log_result = 0\n",
    "best_log_iter = 0\n",
    "\n",
    "for iter in range(100, 1001, 100):\n",
    "    model = LogisticRegression(random_state=12345, solver='lbfgs', max_iter=1000)\n",
    "    accuracy = get_accuracy(model)\n",
    "    if accuracy > best_log_result:\n",
    "        best_log_model = model\n",
    "        best_log_result = accuracy\n",
    "        best_log_iter = iter\n",
    "\n",
    "print(\"Accuracy наилучшей модели логистической регрессии на валидационной выборке: {:.4f}\".format(best_log_result))\n",
    "print(\"Максимальное кол-во итераций:\", best_log_iter)"
   ]
  },
  {
   "cell_type": "markdown",
   "metadata": {},
   "source": [
    "### Наилучшая модель"
   ]
  },
  {
   "cell_type": "code",
   "execution_count": 19,
   "metadata": {},
   "outputs": [
    {
     "name": "stdout",
     "output_type": "stream",
     "text": [
      "Дерево решений: Accuracy наилучшей модели на валидационной выборке: 0.8025\n",
      "max_depth: 7 , criterion: gini , min_samples_split: 2\n",
      "\n",
      "Случайный лес: Accuracy наилучшей модели на валидационной выборке: 0.8134\n",
      "max_depth: 9 , est: 10\n",
      "\n",
      "Логистическая регрессия: Accuracy наилучшей модели на валидационной выборке: 0.7418\n",
      "max_iter: 100\n"
     ]
    }
   ],
   "source": [
    "print(\"Дерево решений: Accuracy наилучшей модели на валидационной выборке: {:.4f}\".format(best_tree_result))\n",
    "print(\"max_depth:\", best_tree_depth, \", criterion:\", best_criterion, \", min_samples_split:\", best_min_samples_split)\n",
    "print()\n",
    "print(\"Случайный лес: Accuracy наилучшей модели на валидационной выборке: {:.4f}\".format(best_forest_result))\n",
    "print(\"max_depth:\", best_forest_depth, \", est:\", best_forest_est)\n",
    "print()\n",
    "print(\"Логистическая регрессия: Accuracy наилучшей модели на валидационной выборке: {:.4f}\".format(best_log_result))\n",
    "print(\"max_iter:\", best_log_iter)"
   ]
  },
  {
   "cell_type": "markdown",
   "metadata": {},
   "source": [
    "### Вывод по исследованию моделей\n",
    "\n",
    "Исследованы модели: Дерево решений, Случайный лес, Логистическая регрессия:  \n",
    "\n",
    "- `Дерево решений`: Accuracy наилучшей модели на валидационной выборке: 0.7994  \n",
    "Гиперпараметры: max_depth: 7\n",
    "\n",
    "- `Случайный лес`: Accuracy наилучшей модели на валидационной выборке: 0.8134  \n",
    "Гиперпараметры: max_depth: 9 , est: 10\n",
    "\n",
    "- `Логистическая регрессия`: Accuracy наилучшей модели на валидационной выборке: 0.6843  \n",
    "Гиперпараметры: max_iter: 100\n",
    "\n",
    "Ниалучшая точность на валидачионной выборке у модели `Случайный лес`."
   ]
  },
  {
   "cell_type": "markdown",
   "metadata": {},
   "source": [
    "## Проверьте модель на тестовой выборке\n",
    "\n",
    "Проверим полученные лучшие модели."
   ]
  },
  {
   "cell_type": "code",
   "execution_count": 20,
   "metadata": {},
   "outputs": [
    {
     "name": "stdout",
     "output_type": "stream",
     "text": [
      "Дерево: Accuracy на тестовой выборке: 0.7807\n",
      "Случайный лес: Accuracy на тестовой выборке: 0.7838\n",
      "Логистическая регрессия: Accuracy на тестовой выборке: 0.7558\n",
      "\n",
      "Лучшая accuracy: 0.7838\n"
     ]
    }
   ],
   "source": [
    "# качество лучших моделей на валидационной выборке\n",
    "accuracy_tree = best_tree_model.score(features_test, target_test) # (test_samples, true_labels)\n",
    "accuracy_forest = best_forest_model.score(features_test, target_test)\n",
    "accuracy_log = best_log_model.score(features_test, target_test)\n",
    "\n",
    "print(\"Дерево: Accuracy на тестовой выборке: {:.4f}\".format(accuracy_tree))\n",
    "print(\"Случайный лес: Accuracy на тестовой выборке: {:.4f}\".format(accuracy_forest))\n",
    "print(\"Логистическая регрессия: Accuracy на тестовой выборке: {:.4f}\".format(accuracy_log))\n",
    "print()\n",
    "print(\"Лучшая accuracy: {:.4f}\".format(max(accuracy_tree, accuracy_forest, accuracy_log)))"
   ]
  },
  {
   "cell_type": "markdown",
   "metadata": {},
   "source": [
    "### Вывод по проверке модели на тестовой выборке\n",
    "\n",
    "Проверялась точность (accuracy) лучших полученных моделей из: дерево решений, случайный лес и логистическая регрессия.  \n",
    "Полученные точности на тестовой выборке хуже, чем на валидационной выборке.  \n",
    "\n",
    "- Дерево: Accuracy на тестовой выборке: 0.7823\n",
    "- Случайный лес: Accuracy на тестовой выборке: 0.7854\n",
    "- Логистическая регрессия: Accuracy на тестовой выборке: 0.7107  \n",
    "\n",
    "Лучшая точность (accuracy) получена для **случайного леса**: `0.7854`"
   ]
  },
  {
   "cell_type": "markdown",
   "metadata": {},
   "source": [
    "## (бонус) Проверьте модели на адекватность"
   ]
  },
  {
   "cell_type": "markdown",
   "metadata": {},
   "source": [
    "Проверка модели на адекватность ведется по тестовой выборке.  \n",
    "\n",
    "### Сравнение со случайной моделью\n",
    "Для проверки адекватности модели (sanity check) сравним её со случайной."
   ]
  },
  {
   "cell_type": "code",
   "execution_count": 21,
   "metadata": {},
   "outputs": [
    {
     "name": "stdout",
     "output_type": "stream",
     "text": [
      "Клиентов Smart: 454, клиентов Ultra: 189. Доля Smart: 70.61%. Доля Ultra: 29.39%.\n"
     ]
    }
   ],
   "source": [
    "# Оценка долей бинарных ответов в исходных данных\n",
    "print(\"Клиентов Smart: {0}, клиентов Ultra: {1}. Доля Smart: {2:.2f}%. Доля Ultra: {3:.2f}%.\"\n",
    "      .format(target_test.value_counts()[0]\n",
    "              , target_test.value_counts()[1]\n",
    "              , round((target_test.value_counts()[0] / target_test.shape[0]) * 100, 2)\n",
    "              , round((target_test.value_counts()[1] / target_test.shape[0]) * 100, 2)))"
   ]
  },
  {
   "cell_type": "markdown",
   "metadata": {},
   "source": [
    "Можно рассмотреть 3 случайных модели:  \n",
    "   1. Случайная модель равномерно случайно выдаёт ответ 0 (тариф Smart) или 1 (тариф Ultra)\n",
    "   2. Случайная модель всегда даёт только ответ 0 (тариф Smart)\n",
    "   3. Случайная модель всегда даёт только ответ 1 (тариф Ultra)\n",
    "\n",
    "Ожидаемые точности таких моделей:\n",
    "   1. accuracy ~ 0.5\n",
    "   2. accuracy ~ 0.7061\n",
    "   3. accuracy ~ 0.2939"
   ]
  },
  {
   "cell_type": "code",
   "execution_count": 22,
   "metadata": {},
   "outputs": [
    {
     "name": "stdout",
     "output_type": "stream",
     "text": [
      "Точность случайной модели №1: 0.4635\n",
      "Точность случайной модели №2: 0.7061\n",
      "Точность случайной модели №3: 0.2939\n"
     ]
    }
   ],
   "source": [
    "# Модель 1 - равномерно случайно выдаёт ответ 0 (тариф Smart) или 1 (тариф Ultra)\n",
    "def randon_predictions(size):\n",
    "    return np.random.randint(low= 0, high= 2, size= size)\n",
    "\n",
    "random1_predictions = randon_predictions(target_test.shape[0])\n",
    "\n",
    "# Модель 2 - выдаёт всегда значения 0 (тариф Smart)\n",
    "random2_predictions = np.full(shape= target_test.shape[0], fill_value= 0, dtype= 'int')\n",
    "\n",
    "# Модель 3 - выдаёт всегда значения 1 (тариф Ultra)\n",
    "random3_predictions = np.full(shape= target_test.shape[0], fill_value= 1, dtype= 'int')\n",
    "\n",
    "random1_accuracy = accuracy_score(target_test, random1_predictions)\n",
    "random2_accuracy = accuracy_score(target_test, random2_predictions)\n",
    "random3_accuracy = accuracy_score(target_test, random3_predictions)\n",
    "\n",
    "print(\"Точность случайной модели №1: {:.4f}\".format(random1_accuracy))\n",
    "print(\"Точность случайной модели №2: {:.4f}\".format(random2_accuracy))\n",
    "print(\"Точность случайной модели №3: {:.4f}\".format(random3_accuracy))"
   ]
  },
  {
   "cell_type": "markdown",
   "metadata": {},
   "source": [
    "Наилучшую точность среди случайных моделей даёт модель, выдающая значения 0 (тариф Smart).  \n",
    "Точность случайной модели №2: 0.7061  \n",
    "Перевес значений 0 в обучающей выборке может влиять на обучение модели.  \n",
    "Очевидно, что модель должна быть не хуже этой случайной модели."
   ]
  },
  {
   "cell_type": "code",
   "execution_count": 37,
   "metadata": {},
   "outputs": [],
   "source": [
    "from sklearn.metrics import confusion_matrix, ConfusionMatrixDisplay\n",
    "\n",
    "def ShowConfusionMatrix(predictions):\n",
    "    cm = confusion_matrix(target_test, predictions)\n",
    "\n",
    "    disp = ConfusionMatrixDisplay(confusion_matrix=cm, display_labels=best_forest_model.classes_)\n",
    "    disp.plot()\n",
    "    plt.show()\n",
    "\n",
    "    tn, fp, fn, tp = cm.ravel()\n",
    "    print(\"true negatives: \", tn, \"false positive:\", fp)\n",
    "    print(\"false negatives: \", fn, \"true positive:\", tp)"
   ]
  },
  {
   "cell_type": "code",
   "execution_count": 38,
   "metadata": {},
   "outputs": [
    {
     "name": "stdout",
     "output_type": "stream",
     "text": [
      "Модель 1 - равномерно случайно выдаёт ответ 0 (тариф Smart) или 1 (тариф Ultra)\n"
     ]
    },
    {
     "data": {
      "image/png": "[encoded data removed]",
      "text/plain": [
       "<Figure size 432x288 with 2 Axes>"
      ]
     },
     "metadata": {},
     "output_type": "display_data"
    },
    {
     "name": "stdout",
     "output_type": "stream",
     "text": [
      "true negatives:  214 false positive: 240\n",
      "false negatives:  105 true positive: 84\n"
     ]
    }
   ],
   "source": [
    "print(\"Модель 1 - равномерно случайно выдаёт ответ 0 (тариф Smart) или 1 (тариф Ultra)\")\n",
    "ShowConfusionMatrix(random1_predictions)"
   ]
  },
  {
   "cell_type": "code",
   "execution_count": 39,
   "metadata": {},
   "outputs": [
    {
     "name": "stdout",
     "output_type": "stream",
     "text": [
      "Модель 2 - выдаёт всегда значения 0 (тариф Smart)\n"
     ]
    },
    {
     "data": {
      "image/png": "[encoded data removed]",
      "text/plain": [
       "<Figure size 432x288 with 2 Axes>"
      ]
     },
     "metadata": {},
     "output_type": "display_data"
    },
    {
     "name": "stdout",
     "output_type": "stream",
     "text": [
      "true negatives:  454 false positive: 0\n",
      "false negatives:  189 true positive: 0\n"
     ]
    }
   ],
   "source": [
    "print(\"Модель 2 - выдаёт всегда значения 0 (тариф Smart)\")\n",
    "ShowConfusionMatrix(random2_predictions)"
   ]
  },
  {
   "cell_type": "code",
   "execution_count": 41,
   "metadata": {},
   "outputs": [
    {
     "name": "stdout",
     "output_type": "stream",
     "text": [
      " Модель 3 - выдаёт всегда значения 1 (тариф Ultra)\n"
     ]
    },
    {
     "data": {
      "image/png": "[encoded data removed]",
      "text/plain": [
       "<Figure size 432x288 with 2 Axes>"
      ]
     },
     "metadata": {},
     "output_type": "display_data"
    },
    {
     "name": "stdout",
     "output_type": "stream",
     "text": [
      "true negatives:  0 false positive: 454\n",
      "false negatives:  0 true positive: 189\n"
     ]
    }
   ],
   "source": [
    "print(\" Модель 3 - выдаёт всегда значения 1 (тариф Ultra)\")\n",
    "ShowConfusionMatrix(random3_predictions)"
   ]
  },
  {
   "cell_type": "markdown",
   "metadata": {},
   "source": [
    "Дополнительно оценим **Precision** лучшей модели для знаяения 0 (тариф Smart) на тестовой выборке."
   ]
  },
  {
   "cell_type": "code",
   "execution_count": 24,
   "metadata": {},
   "outputs": [],
   "source": [
    "# Выделение из тестовой  выборки только тарифа Smart (is_ultra = 0)\n",
    "\n",
    "# Слияние features, targets\n",
    "# print(features_test.shape[0])\n",
    "test_smart = pd.concat([features_test, target_test], axis= 1)\n",
    "# print(test_smart.shape[0])\n",
    "test_smart = test_smart.query('is_ultra == 0')\n",
    "# print(test_smart.shape[0])\n",
    "\n",
    "# Разделение на features, targets\n",
    "features_test_smart = test_smart.drop('is_ultra', axis= 1)\n",
    "target_test_smart = test_smart['is_ultra']"
   ]
  },
  {
   "cell_type": "code",
   "execution_count": 25,
   "metadata": {},
   "outputs": [
    {
     "name": "stdout",
     "output_type": "stream",
     "text": [
      "Precision лучшей модели для тарифа Smart: 0.9185\n"
     ]
    }
   ],
   "source": [
    "precision_smart = best_forest_model.score(features_test_smart, target_test_smart)\n",
    "print(\"Precision лучшей модели для тарифа Smart: {:.4f}\".format(precision_smart))"
   ]
  },
  {
   "cell_type": "code",
   "execution_count": 26,
   "metadata": {},
   "outputs": [
    {
     "name": "stdout",
     "output_type": "stream",
     "text": [
      "Precision случайной модели для тарифа Smart: 0.5374\n"
     ]
    }
   ],
   "source": [
    "# Precision случайной модели\n",
    "random2_smart_predictions = randon_predictions(target_test_smart.shape[0])\n",
    "precision_random_smart = accuracy_score(target_test_smart, random2_smart_predictions)\n",
    "print(\"Precision случайной модели для тарифа Smart: {:.4f}\".format(precision_random_smart))"
   ]
  },
  {
   "cell_type": "markdown",
   "metadata": {},
   "source": [
    "### Вывод по проверке адекватности модели\n",
    "\n",
    "Сравниваем лучшую модель со случайной моделью, дающую наилучную точность.  \n",
    "Полученные значения Accuracy:\n",
    "\n",
    "- Лучшая модель - Случайный лес: Accuracy на тестовой выборке: 0.7854\n",
    "- Точность случайной модели №2 (всегда предсказывает 0(тариф Smart)): 0.7061\n",
    "\n",
    "Сравнение Precision лучшей модели и случайной модели:\n",
    "- Precision лучшей модели для тарифа Smart: 0.9185\n",
    "- Precision случайной модели для тарифа Smart: 0.5352 (ожидаемое ~0.5)\n",
    "\n",
    "**Вывод:** Полученная модель имеет лучшую точность, чем случайная. Значит, модель адекватна."
   ]
  },
  {
   "cell_type": "markdown",
   "metadata": {},
   "source": [
    "## Общий вывод\n",
    "\n",
    "**Вывод по общим данным файла**  \n",
    "\n",
    "Данные содержат 3214 записи.  \n",
    "Наименования столбцов корректны.  \n",
    "Пропущенных данных не обнаружено. \n",
    "Типы данных корректны.  \n",
    "Полных (явных) дубликатов не обнаружено.  \n",
    "\n",
    "**Описание данных**  \n",
    "Каждый объект в наборе данных — это информация о поведении одного пользователя за месяц.  \n",
    "Известно:\n",
    "- `сalls` — количество звонков,\n",
    "- `minutes` — суммарная длительность звонков в минутах,\n",
    "- `messages` — количество sms-сообщений,\n",
    "- `mb_used` — израсходованный интернет-трафик в Мб,\n",
    "- `is_ultra` — каким тарифом пользовался в течение месяца («Ультра» — 1, «Смарт» — 0)\n",
    "\n",
    "**Вывод по выделенным признакам**  \n",
    "\n",
    "Выбранные признаки имеют различия в характере распределения. Имеют отличающиеся статистики. Также, все имеют слабую положительную корреляцию с целевым признаком.  \n",
    "\n",
    "Наличие пусть и слабой корреляции делает обоснованным выбор признаков для обучения модели.  \n",
    "\n",
    "Пропорция целевых признаков 0 и 1 в исходной выборке не 50% на 50%, а перевешивает в пользу 0 (тариф Smart).  \n",
    "\n",
    "**Вывод по разбивке данных на выборки**  \n",
    "\n",
    "Данные разбиты в пропорциях:\n",
    "- Обучающую - 60%\n",
    "- Валидационную - 20%\n",
    "- Тестовую - 20%\n",
    "\n",
    "**Вывод по исследованию моделей**  \n",
    "\n",
    "Исследованы модели: Дерево решений, Случайный лес, Логистическая регрессия:  \n",
    "\n",
    "- `Дерево решений`: Accuracy наилучшей модели на валидационной выборке: 0.7994  \n",
    "Гиперпараметры: max_depth: 7\n",
    "\n",
    "- `Случайный лес`: Accuracy наилучшей модели на валидационной выборке: 0.8134  \n",
    "Гиперпараметры: max_depth: 9 , est: 10\n",
    "\n",
    "- `Логистическая регрессия`: Accuracy наилучшей модели на валидационной выборке: 0.6843  \n",
    "Гиперпараметры: max_iter: 100\n",
    "\n",
    "Ниалучшая точность на валидачионной выборке у модели `Случайный лес`.\n",
    "\n",
    "**Вывод по проверке модели на тестовой выборке**  \n",
    "\n",
    "Проверялась точность (accuracy) лучших полученных моделей из: дерево решений, случайный лес и логистическая регрессия.  \n",
    "Полученные точности на тестовой выборке хуже, чем на валидационной выборке.  \n",
    "\n",
    "- Дерево: Accuracy на тестовой выборке: 0.7823\n",
    "- Случайный лес: Accuracy на тестовой выборке: 0.7854\n",
    "- Логистическая регрессия: Accuracy на тестовой выборке: 0.7107  \n",
    "\n",
    "Лучшая точность (accuracy) получена для **случайного леса**: `0.7854`\n",
    "\n",
    "**Вывод по проверке адекватности модели**  \n",
    "\n",
    "Сравниваем лучшую модель со случайной моделью, дающую наилучную точность.  \n",
    "Полученные значения Accuracy:\n",
    "\n",
    "- Лучшая модель - Случайный лес: Accuracy на тестовой выборке: 0.7854\n",
    "- Точность случайной модели №2 (всегда предсказывает 0(тариф Smart)): 0.7061\n",
    "\n",
    "Сравнение Precision лучшей модели и случайной модели:\n",
    "- Precision лучшей модели для тарифа Smart: 0.9185\n",
    "- Precision случайной модели для тарифа Smart: 0.4802 (ожидаемое ~0.5)\n",
    "\n",
    "Полученная модель имеет лучшую точность, чем случайная. Значит, модель адекватна."
   ]
  },
  {
   "cell_type": "markdown",
   "metadata": {},
   "source": [
    "## Чек-лист готовности проекта"
   ]
  },
  {
   "cell_type": "markdown",
   "metadata": {},
   "source": [
    "Поставьте 'x' в выполненных пунктах. Далее нажмите Shift+Enter."
   ]
  },
  {
   "cell_type": "markdown",
   "metadata": {},
   "source": [
    "- [x] Jupyter Notebook открыт\n",
    "- [x] Весь код исполняется без ошибок\n",
    "- [x] Ячейки с кодом расположены в порядке исполнения\n",
    "- [x] Выполнено задание 1: данные загружены и изучены\n",
    "- [x] Выполнено задание 2: данные разбиты на три выборки\n",
    "- [x] Выполнено задание 3: проведено исследование моделей\n",
    "    - [x] Рассмотрено больше одной модели\n",
    "    - [x] Рассмотрено хотя бы 3 значения гипепараметров для какой-нибудь модели\n",
    "    - [x] Написаны выводы по результатам исследования\n",
    "- [x] Выполнено задание 3: Проведено тестирование\n",
    "- [x] Удалось достичь accuracy не меньше 0.75\n"
   ]
  }
 ],
 "metadata": {
  "ExecuteTimeLog": [
   {
    "duration": 1374,
    "start_time": "2023-09-18T15:37:56.869Z"
   },
   {
    "duration": 113,
    "start_time": "2023-09-18T15:37:58.752Z"
   },
   {
    "duration": 98,
    "start_time": "2023-09-18T15:38:37.626Z"
   },
   {
    "duration": 5,
    "start_time": "2023-09-18T15:38:39.643Z"
   },
   {
    "duration": 36,
    "start_time": "2023-09-18T15:38:41.783Z"
   },
   {
    "duration": 5,
    "start_time": "2023-09-18T15:41:04.131Z"
   },
   {
    "duration": 26,
    "start_time": "2023-09-18T15:42:02.853Z"
   },
   {
    "duration": 4,
    "start_time": "2023-09-18T15:42:04.795Z"
   },
   {
    "duration": 27,
    "start_time": "2023-09-18T15:42:07.285Z"
   },
   {
    "duration": 5,
    "start_time": "2023-09-18T15:42:20.332Z"
   },
   {
    "duration": 27,
    "start_time": "2023-09-18T15:42:23.868Z"
   },
   {
    "duration": 4,
    "start_time": "2023-09-18T16:15:28.787Z"
   },
   {
    "duration": 4,
    "start_time": "2023-09-18T16:22:41.838Z"
   },
   {
    "duration": 11,
    "start_time": "2023-09-18T16:22:45.020Z"
   },
   {
    "duration": 400,
    "start_time": "2023-09-18T16:23:21.100Z"
   },
   {
    "duration": 33,
    "start_time": "2023-09-18T16:23:22.906Z"
   },
   {
    "duration": 5,
    "start_time": "2023-09-18T16:23:25.532Z"
   },
   {
    "duration": 4,
    "start_time": "2023-09-18T16:23:29.635Z"
   },
   {
    "duration": 6,
    "start_time": "2023-09-18T16:23:49.356Z"
   },
   {
    "duration": 9,
    "start_time": "2023-09-18T16:24:53.770Z"
   },
   {
    "duration": 23,
    "start_time": "2023-09-18T16:27:26.575Z"
   },
   {
    "duration": 8,
    "start_time": "2023-09-18T16:28:40.064Z"
   },
   {
    "duration": 14,
    "start_time": "2023-09-18T16:29:28.670Z"
   },
   {
    "duration": 11,
    "start_time": "2023-09-18T16:29:40.120Z"
   },
   {
    "duration": 12,
    "start_time": "2023-09-18T16:29:57.538Z"
   },
   {
    "duration": 11,
    "start_time": "2023-09-18T16:30:08.793Z"
   },
   {
    "duration": 10,
    "start_time": "2023-09-18T16:30:14.419Z"
   },
   {
    "duration": 9,
    "start_time": "2023-09-18T16:30:42.978Z"
   },
   {
    "duration": 8,
    "start_time": "2023-09-18T16:30:48.978Z"
   },
   {
    "duration": 9,
    "start_time": "2023-09-18T16:30:58.689Z"
   },
   {
    "duration": 10,
    "start_time": "2023-09-18T16:33:50.806Z"
   },
   {
    "duration": 10,
    "start_time": "2023-09-18T16:34:13.203Z"
   },
   {
    "duration": 10,
    "start_time": "2023-09-18T16:34:32.084Z"
   },
   {
    "duration": 24,
    "start_time": "2023-09-18T16:36:20.244Z"
   },
   {
    "duration": 17,
    "start_time": "2023-09-18T16:36:41.196Z"
   },
   {
    "duration": 25,
    "start_time": "2023-09-18T16:45:36.428Z"
   },
   {
    "duration": 16,
    "start_time": "2023-09-18T16:46:06.201Z"
   },
   {
    "duration": 16,
    "start_time": "2023-09-18T16:46:29.562Z"
   },
   {
    "duration": 19,
    "start_time": "2023-09-18T16:46:42.443Z"
   },
   {
    "duration": 18,
    "start_time": "2023-09-18T16:48:25.501Z"
   },
   {
    "duration": 86,
    "start_time": "2023-09-18T16:48:49.772Z"
   },
   {
    "duration": 15,
    "start_time": "2023-09-18T16:48:56.370Z"
   },
   {
    "duration": 25,
    "start_time": "2023-09-18T16:50:12.382Z"
   },
   {
    "duration": 22,
    "start_time": "2023-09-18T16:50:47.251Z"
   },
   {
    "duration": 14,
    "start_time": "2023-09-18T17:06:10.420Z"
   },
   {
    "duration": 57,
    "start_time": "2023-09-18T17:08:22.900Z"
   },
   {
    "duration": 29,
    "start_time": "2023-09-18T17:08:24.061Z"
   },
   {
    "duration": 7,
    "start_time": "2023-09-18T17:08:24.664Z"
   },
   {
    "duration": 42,
    "start_time": "2023-09-18T17:08:25.322Z"
   },
   {
    "duration": 4,
    "start_time": "2023-09-18T17:08:27.106Z"
   },
   {
    "duration": 16,
    "start_time": "2023-09-18T17:08:29.465Z"
   },
   {
    "duration": 21,
    "start_time": "2023-09-18T17:08:32.550Z"
   },
   {
    "duration": 59,
    "start_time": "2023-09-18T17:09:00.804Z"
   },
   {
    "duration": 45,
    "start_time": "2023-09-18T17:09:26.458Z"
   },
   {
    "duration": 40,
    "start_time": "2023-09-18T17:09:53.358Z"
   },
   {
    "duration": 3,
    "start_time": "2023-09-18T17:10:43.185Z"
   },
   {
    "duration": 46,
    "start_time": "2023-09-18T17:12:47.432Z"
   },
   {
    "duration": 41,
    "start_time": "2023-09-18T17:54:01.306Z"
   },
   {
    "duration": 37,
    "start_time": "2023-09-18T18:04:37.801Z"
   },
   {
    "duration": 32,
    "start_time": "2023-09-18T18:04:57.552Z"
   },
   {
    "duration": 86,
    "start_time": "2023-09-18T18:11:00.063Z"
   },
   {
    "duration": 82,
    "start_time": "2023-09-18T18:11:28.166Z"
   },
   {
    "duration": 81,
    "start_time": "2023-09-18T18:14:07.776Z"
   },
   {
    "duration": 76,
    "start_time": "2023-09-18T18:14:23.520Z"
   },
   {
    "duration": 4,
    "start_time": "2023-09-18T18:18:10.979Z"
   },
   {
    "duration": 82,
    "start_time": "2023-09-18T18:18:16.962Z"
   },
   {
    "duration": 21,
    "start_time": "2023-09-18T18:24:25.591Z"
   },
   {
    "duration": 18,
    "start_time": "2023-09-18T18:25:07.961Z"
   },
   {
    "duration": 94,
    "start_time": "2023-09-18T18:25:21.391Z"
   },
   {
    "duration": 104,
    "start_time": "2023-09-18T18:25:46.207Z"
   },
   {
    "duration": 98,
    "start_time": "2023-09-18T18:27:43.378Z"
   },
   {
    "duration": 587,
    "start_time": "2023-09-18T19:06:06.086Z"
   },
   {
    "duration": 16,
    "start_time": "2023-09-18T19:07:32.361Z"
   },
   {
    "duration": 10,
    "start_time": "2023-09-18T19:08:15.390Z"
   },
   {
    "duration": 252,
    "start_time": "2023-09-18T19:08:40.398Z"
   },
   {
    "duration": 160,
    "start_time": "2023-09-18T19:08:49.960Z"
   },
   {
    "duration": 399,
    "start_time": "2023-09-18T19:09:05.675Z"
   },
   {
    "duration": 194,
    "start_time": "2023-09-18T19:09:09.179Z"
   },
   {
    "duration": 180,
    "start_time": "2023-09-18T19:09:17.180Z"
   },
   {
    "duration": 167,
    "start_time": "2023-09-18T19:09:19.699Z"
   },
   {
    "duration": 165,
    "start_time": "2023-09-18T19:09:34.917Z"
   },
   {
    "duration": 229,
    "start_time": "2023-09-18T19:10:01.053Z"
   },
   {
    "duration": 276,
    "start_time": "2023-09-18T19:12:05.935Z"
   },
   {
    "duration": 260,
    "start_time": "2023-09-18T19:13:07.909Z"
   },
   {
    "duration": 292,
    "start_time": "2023-09-18T19:13:14.384Z"
   },
   {
    "duration": 19,
    "start_time": "2023-09-18T19:31:28.046Z"
   },
   {
    "duration": 16,
    "start_time": "2023-09-18T19:31:51.674Z"
   },
   {
    "duration": 15,
    "start_time": "2023-09-18T19:32:12.986Z"
   },
   {
    "duration": 38,
    "start_time": "2023-09-18T19:32:15.105Z"
   },
   {
    "duration": 7,
    "start_time": "2023-09-18T19:32:15.842Z"
   },
   {
    "duration": 39,
    "start_time": "2023-09-18T19:32:17.289Z"
   },
   {
    "duration": 4,
    "start_time": "2023-09-18T19:32:19.096Z"
   },
   {
    "duration": 19,
    "start_time": "2023-09-18T19:32:20.489Z"
   },
   {
    "duration": 4,
    "start_time": "2023-09-18T19:32:22.351Z"
   },
   {
    "duration": 195,
    "start_time": "2023-09-18T19:32:23.045Z"
   },
   {
    "duration": 296,
    "start_time": "2023-09-18T19:32:24.871Z"
   },
   {
    "duration": 5236,
    "start_time": "2023-09-18T19:32:29.181Z"
   },
   {
    "duration": 4500,
    "start_time": "2023-09-18T19:33:09.668Z"
   },
   {
    "duration": 16743,
    "start_time": "2023-09-18T19:33:44.019Z"
   },
   {
    "duration": 16,
    "start_time": "2023-09-18T19:44:43.270Z"
   },
   {
    "duration": 5,
    "start_time": "2023-09-18T19:44:54.786Z"
   },
   {
    "duration": 357,
    "start_time": "2023-09-18T19:45:02.817Z"
   },
   {
    "duration": 315,
    "start_time": "2023-09-18T19:46:13.585Z"
   },
   {
    "duration": 18009,
    "start_time": "2023-09-18T19:48:16.202Z"
   },
   {
    "duration": 147,
    "start_time": "2023-09-18T19:49:01.478Z"
   },
   {
    "duration": 198,
    "start_time": "2023-09-18T19:49:07.089Z"
   },
   {
    "duration": 177,
    "start_time": "2023-09-18T19:49:17.345Z"
   },
   {
    "duration": 25,
    "start_time": "2023-09-18T19:50:46.449Z"
   },
   {
    "duration": 1426,
    "start_time": "2023-09-18T19:52:38.568Z"
   },
   {
    "duration": 57,
    "start_time": "2023-09-18T19:52:39.996Z"
   },
   {
    "duration": 8,
    "start_time": "2023-09-18T19:52:40.057Z"
   },
   {
    "duration": 72,
    "start_time": "2023-09-18T19:52:40.067Z"
   },
   {
    "duration": 5,
    "start_time": "2023-09-18T19:52:40.150Z"
   },
   {
    "duration": 54,
    "start_time": "2023-09-18T19:52:40.157Z"
   },
   {
    "duration": 11,
    "start_time": "2023-09-18T19:52:40.213Z"
   },
   {
    "duration": 185,
    "start_time": "2023-09-18T19:52:40.230Z"
   },
   {
    "duration": 0,
    "start_time": "2023-09-18T19:52:40.424Z"
   },
   {
    "duration": 0,
    "start_time": "2023-09-18T19:52:40.426Z"
   },
   {
    "duration": 0,
    "start_time": "2023-09-18T19:52:40.432Z"
   },
   {
    "duration": 0,
    "start_time": "2023-09-18T19:52:40.434Z"
   },
   {
    "duration": 0,
    "start_time": "2023-09-18T19:52:40.435Z"
   },
   {
    "duration": 202,
    "start_time": "2023-09-18T19:53:11.484Z"
   },
   {
    "duration": 20,
    "start_time": "2023-09-18T19:53:16.554Z"
   },
   {
    "duration": 1484,
    "start_time": "2023-09-18T19:53:28.119Z"
   },
   {
    "duration": 41,
    "start_time": "2023-09-18T19:53:29.605Z"
   },
   {
    "duration": 9,
    "start_time": "2023-09-18T19:53:29.651Z"
   },
   {
    "duration": 55,
    "start_time": "2023-09-18T19:53:29.663Z"
   },
   {
    "duration": 13,
    "start_time": "2023-09-18T19:53:29.719Z"
   },
   {
    "duration": 32,
    "start_time": "2023-09-18T19:53:29.741Z"
   },
   {
    "duration": 3,
    "start_time": "2023-09-18T19:53:29.775Z"
   },
   {
    "duration": 194,
    "start_time": "2023-09-18T19:53:29.780Z"
   },
   {
    "duration": 124,
    "start_time": "2023-09-18T19:53:29.976Z"
   },
   {
    "duration": 0,
    "start_time": "2023-09-18T19:53:30.102Z"
   },
   {
    "duration": 0,
    "start_time": "2023-09-18T19:53:30.104Z"
   },
   {
    "duration": 0,
    "start_time": "2023-09-18T19:53:30.105Z"
   },
   {
    "duration": 0,
    "start_time": "2023-09-18T19:53:30.107Z"
   },
   {
    "duration": 416,
    "start_time": "2023-09-18T19:53:58.588Z"
   },
   {
    "duration": 1825,
    "start_time": "2023-09-18T19:54:06.817Z"
   },
   {
    "duration": 42,
    "start_time": "2023-09-18T19:54:08.646Z"
   },
   {
    "duration": 183,
    "start_time": "2023-09-18T19:54:08.690Z"
   },
   {
    "duration": 159,
    "start_time": "2023-09-18T19:54:08.875Z"
   },
   {
    "duration": 6,
    "start_time": "2023-09-18T19:54:09.039Z"
   },
   {
    "duration": 32,
    "start_time": "2023-09-18T19:54:09.049Z"
   },
   {
    "duration": 31,
    "start_time": "2023-09-18T19:54:09.083Z"
   },
   {
    "duration": 223,
    "start_time": "2023-09-18T19:54:09.116Z"
   },
   {
    "duration": 240,
    "start_time": "2023-09-18T19:54:09.349Z"
   },
   {
    "duration": 225,
    "start_time": "2023-09-18T19:54:09.591Z"
   },
   {
    "duration": 0,
    "start_time": "2023-09-18T19:54:09.818Z"
   },
   {
    "duration": 0,
    "start_time": "2023-09-18T19:54:09.819Z"
   },
   {
    "duration": 0,
    "start_time": "2023-09-18T19:54:09.820Z"
   },
   {
    "duration": 17642,
    "start_time": "2023-09-18T19:54:32.172Z"
   },
   {
    "duration": 14,
    "start_time": "2023-09-18T19:54:49.823Z"
   },
   {
    "duration": 17436,
    "start_time": "2023-09-18T19:57:21.764Z"
   },
   {
    "duration": 25,
    "start_time": "2023-09-18T19:57:41.317Z"
   },
   {
    "duration": 507,
    "start_time": "2023-09-18T19:57:45.886Z"
   },
   {
    "duration": 343,
    "start_time": "2023-09-18T19:58:42.309Z"
   },
   {
    "duration": 29653,
    "start_time": "2023-09-18T19:59:52.463Z"
   },
   {
    "duration": 25,
    "start_time": "2023-09-18T20:00:32.638Z"
   },
   {
    "duration": 362,
    "start_time": "2023-09-18T20:00:35.730Z"
   },
   {
    "duration": 418,
    "start_time": "2023-09-18T20:00:59.087Z"
   },
   {
    "duration": 19236,
    "start_time": "2023-09-18T20:02:00.696Z"
   },
   {
    "duration": 324,
    "start_time": "2023-09-18T20:02:23.659Z"
   },
   {
    "duration": 46,
    "start_time": "2023-09-18T20:02:49.753Z"
   },
   {
    "duration": 242,
    "start_time": "2023-09-18T20:02:59.873Z"
   },
   {
    "duration": 1756,
    "start_time": "2023-09-18T20:03:28.322Z"
   },
   {
    "duration": 30,
    "start_time": "2023-09-18T20:03:30.080Z"
   },
   {
    "duration": 11,
    "start_time": "2023-09-18T20:03:30.112Z"
   },
   {
    "duration": 81,
    "start_time": "2023-09-18T20:03:30.126Z"
   },
   {
    "duration": 32,
    "start_time": "2023-09-18T20:03:30.208Z"
   },
   {
    "duration": 46,
    "start_time": "2023-09-18T20:03:30.242Z"
   },
   {
    "duration": 68,
    "start_time": "2023-09-18T20:03:30.290Z"
   },
   {
    "duration": 277,
    "start_time": "2023-09-18T20:03:30.361Z"
   },
   {
    "duration": 271,
    "start_time": "2023-09-18T20:03:30.643Z"
   },
   {
    "duration": 20969,
    "start_time": "2023-09-18T20:03:30.931Z"
   },
   {
    "duration": 392,
    "start_time": "2023-09-18T20:03:51.903Z"
   },
   {
    "duration": 296,
    "start_time": "2023-09-18T20:03:52.298Z"
   },
   {
    "duration": 1920,
    "start_time": "2023-09-18T20:09:05.849Z"
   },
   {
    "duration": 35,
    "start_time": "2023-09-18T20:09:07.771Z"
   },
   {
    "duration": 11,
    "start_time": "2023-09-18T20:09:07.810Z"
   },
   {
    "duration": 68,
    "start_time": "2023-09-18T20:09:07.822Z"
   },
   {
    "duration": 10,
    "start_time": "2023-09-18T20:09:07.892Z"
   },
   {
    "duration": 61,
    "start_time": "2023-09-18T20:09:07.903Z"
   },
   {
    "duration": 17,
    "start_time": "2023-09-18T20:09:07.968Z"
   },
   {
    "duration": 214,
    "start_time": "2023-09-18T20:09:07.987Z"
   },
   {
    "duration": 0,
    "start_time": "2023-09-18T20:09:08.203Z"
   },
   {
    "duration": 0,
    "start_time": "2023-09-18T20:09:08.204Z"
   },
   {
    "duration": 0,
    "start_time": "2023-09-18T20:09:08.205Z"
   },
   {
    "duration": 0,
    "start_time": "2023-09-18T20:09:08.206Z"
   },
   {
    "duration": 252,
    "start_time": "2023-09-18T20:09:56.086Z"
   },
   {
    "duration": 248,
    "start_time": "2023-09-18T20:10:03.868Z"
   },
   {
    "duration": 22657,
    "start_time": "2023-09-18T20:10:15.361Z"
   },
   {
    "duration": 336,
    "start_time": "2023-09-18T20:10:40.068Z"
   },
   {
    "duration": 287,
    "start_time": "2023-09-18T20:10:43.687Z"
   },
   {
    "duration": 54,
    "start_time": "2023-09-19T05:30:45.575Z"
   },
   {
    "duration": 1741,
    "start_time": "2023-09-19T05:30:55.302Z"
   },
   {
    "duration": 115,
    "start_time": "2023-09-19T05:30:57.046Z"
   },
   {
    "duration": 5,
    "start_time": "2023-09-19T05:30:57.163Z"
   },
   {
    "duration": 44,
    "start_time": "2023-09-19T05:30:57.171Z"
   },
   {
    "duration": 4,
    "start_time": "2023-09-19T05:30:57.217Z"
   },
   {
    "duration": 25,
    "start_time": "2023-09-19T05:30:57.223Z"
   },
   {
    "duration": 10,
    "start_time": "2023-09-19T05:30:57.250Z"
   },
   {
    "duration": 164,
    "start_time": "2023-09-19T05:30:57.261Z"
   },
   {
    "duration": 225,
    "start_time": "2023-09-19T05:30:57.426Z"
   },
   {
    "duration": 16704,
    "start_time": "2023-09-19T05:30:57.653Z"
   },
   {
    "duration": 272,
    "start_time": "2023-09-19T05:31:14.358Z"
   },
   {
    "duration": 217,
    "start_time": "2023-09-19T05:31:14.632Z"
   },
   {
    "duration": 122,
    "start_time": "2023-09-19T05:31:59.969Z"
   },
   {
    "duration": 5,
    "start_time": "2023-09-19T05:32:30.990Z"
   },
   {
    "duration": 343,
    "start_time": "2023-09-19T05:32:36.125Z"
   },
   {
    "duration": 199,
    "start_time": "2023-09-19T05:32:51.645Z"
   },
   {
    "duration": 206,
    "start_time": "2023-09-19T05:33:02.617Z"
   },
   {
    "duration": 195,
    "start_time": "2023-09-19T05:33:08.168Z"
   },
   {
    "duration": 200,
    "start_time": "2023-09-19T05:34:23.647Z"
   },
   {
    "duration": 17053,
    "start_time": "2023-09-19T05:35:35.016Z"
   },
   {
    "duration": 293,
    "start_time": "2023-09-19T05:35:52.071Z"
   },
   {
    "duration": 165,
    "start_time": "2023-09-19T05:36:36.761Z"
   },
   {
    "duration": 253,
    "start_time": "2023-09-19T05:36:38.940Z"
   },
   {
    "duration": 189,
    "start_time": "2023-09-19T05:37:40.751Z"
   },
   {
    "duration": 246,
    "start_time": "2023-09-19T05:38:00.079Z"
   },
   {
    "duration": 77,
    "start_time": "2023-09-19T05:38:10.878Z"
   },
   {
    "duration": 197,
    "start_time": "2023-09-19T05:38:15.679Z"
   },
   {
    "duration": 293,
    "start_time": "2023-09-19T05:38:33.776Z"
   },
   {
    "duration": 323,
    "start_time": "2023-09-19T05:39:02.169Z"
   },
   {
    "duration": 212,
    "start_time": "2023-09-19T05:39:18.017Z"
   },
   {
    "duration": 195,
    "start_time": "2023-09-19T05:39:27.888Z"
   },
   {
    "duration": 272,
    "start_time": "2023-09-19T05:39:39.303Z"
   },
   {
    "duration": 310,
    "start_time": "2023-09-19T05:40:23.983Z"
   },
   {
    "duration": 238,
    "start_time": "2023-09-19T05:42:16.803Z"
   },
   {
    "duration": 315,
    "start_time": "2023-09-19T05:42:22.097Z"
   },
   {
    "duration": 8,
    "start_time": "2023-09-19T05:43:31.171Z"
   },
   {
    "duration": 16,
    "start_time": "2023-09-19T05:43:42.977Z"
   },
   {
    "duration": 7,
    "start_time": "2023-09-19T05:43:47.146Z"
   },
   {
    "duration": 14,
    "start_time": "2023-09-19T05:47:51.997Z"
   },
   {
    "duration": 12,
    "start_time": "2023-09-19T05:49:32.182Z"
   },
   {
    "duration": 18,
    "start_time": "2023-09-19T05:52:44.752Z"
   },
   {
    "duration": 3,
    "start_time": "2023-09-19T05:52:53.926Z"
   },
   {
    "duration": 11,
    "start_time": "2023-09-19T05:52:58.527Z"
   },
   {
    "duration": 91,
    "start_time": "2023-09-19T05:53:39.479Z"
   },
   {
    "duration": 4,
    "start_time": "2023-09-19T05:54:43.552Z"
   },
   {
    "duration": 85,
    "start_time": "2023-09-19T05:54:54.885Z"
   },
   {
    "duration": 440,
    "start_time": "2023-09-19T05:55:10.314Z"
   },
   {
    "duration": 439,
    "start_time": "2023-09-19T05:56:44.562Z"
   },
   {
    "duration": 8,
    "start_time": "2023-09-19T05:57:06.492Z"
   },
   {
    "duration": 9,
    "start_time": "2023-09-19T05:57:30.546Z"
   },
   {
    "duration": 9,
    "start_time": "2023-09-19T05:57:37.321Z"
   },
   {
    "duration": 9,
    "start_time": "2023-09-19T05:58:50.137Z"
   },
   {
    "duration": 8,
    "start_time": "2023-09-19T05:58:59.858Z"
   },
   {
    "duration": 157,
    "start_time": "2023-09-19T05:59:37.355Z"
   },
   {
    "duration": 280,
    "start_time": "2023-09-19T05:59:39.964Z"
   },
   {
    "duration": 6,
    "start_time": "2023-09-19T06:00:16.630Z"
   },
   {
    "duration": 153,
    "start_time": "2023-09-19T06:02:29.773Z"
   },
   {
    "duration": 5,
    "start_time": "2023-09-19T06:02:32.405Z"
   },
   {
    "duration": 149,
    "start_time": "2023-09-19T06:03:09.237Z"
   },
   {
    "duration": 6,
    "start_time": "2023-09-19T06:03:11.572Z"
   },
   {
    "duration": 7,
    "start_time": "2023-09-19T06:05:10.072Z"
   },
   {
    "duration": 9,
    "start_time": "2023-09-19T06:05:40.663Z"
   },
   {
    "duration": 242,
    "start_time": "2023-09-19T06:05:49.231Z"
   },
   {
    "duration": 160,
    "start_time": "2023-09-19T06:06:16.248Z"
   },
   {
    "duration": 149,
    "start_time": "2023-09-19T06:06:30.520Z"
   },
   {
    "duration": 245,
    "start_time": "2023-09-19T06:07:09.912Z"
   },
   {
    "duration": 436,
    "start_time": "2023-09-19T06:08:45.504Z"
   },
   {
    "duration": 319,
    "start_time": "2023-09-19T06:08:53.960Z"
   },
   {
    "duration": 213,
    "start_time": "2023-09-19T06:09:35.625Z"
   },
   {
    "duration": 239,
    "start_time": "2023-09-19T06:09:59.145Z"
   },
   {
    "duration": 175,
    "start_time": "2023-09-19T06:12:07.644Z"
   },
   {
    "duration": 17240,
    "start_time": "2023-09-19T06:12:53.778Z"
   },
   {
    "duration": 5,
    "start_time": "2023-09-19T06:14:44.023Z"
   },
   {
    "duration": 6,
    "start_time": "2023-09-19T06:14:59.758Z"
   },
   {
    "duration": 6,
    "start_time": "2023-09-19T06:16:19.777Z"
   },
   {
    "duration": 6,
    "start_time": "2023-09-19T06:16:47.404Z"
   },
   {
    "duration": 6,
    "start_time": "2023-09-19T06:16:58.662Z"
   },
   {
    "duration": 7,
    "start_time": "2023-09-19T06:17:54.491Z"
   },
   {
    "duration": 8,
    "start_time": "2023-09-19T06:18:01.460Z"
   },
   {
    "duration": 1556,
    "start_time": "2023-09-19T06:18:37.963Z"
   },
   {
    "duration": 30,
    "start_time": "2023-09-19T06:18:39.522Z"
   },
   {
    "duration": 5,
    "start_time": "2023-09-19T06:18:39.554Z"
   },
   {
    "duration": 36,
    "start_time": "2023-09-19T06:18:39.560Z"
   },
   {
    "duration": 4,
    "start_time": "2023-09-19T06:18:39.599Z"
   },
   {
    "duration": 43,
    "start_time": "2023-09-19T06:18:39.604Z"
   },
   {
    "duration": 4,
    "start_time": "2023-09-19T06:18:39.649Z"
   },
   {
    "duration": 174,
    "start_time": "2023-09-19T06:18:39.654Z"
   },
   {
    "duration": 266,
    "start_time": "2023-09-19T06:18:39.830Z"
   },
   {
    "duration": 17054,
    "start_time": "2023-09-19T06:18:40.098Z"
   },
   {
    "duration": 334,
    "start_time": "2023-09-19T06:18:57.154Z"
   },
   {
    "duration": 216,
    "start_time": "2023-09-19T06:18:57.490Z"
   },
   {
    "duration": 5,
    "start_time": "2023-09-19T06:18:57.708Z"
   },
   {
    "duration": 14,
    "start_time": "2023-09-19T06:24:39.275Z"
   },
   {
    "duration": 14,
    "start_time": "2023-09-19T06:26:43.008Z"
   },
   {
    "duration": 14,
    "start_time": "2023-09-19T06:27:09.100Z"
   },
   {
    "duration": 94,
    "start_time": "2023-09-19T06:30:28.209Z"
   },
   {
    "duration": 13,
    "start_time": "2023-09-19T06:30:36.319Z"
   },
   {
    "duration": 15,
    "start_time": "2023-09-19T06:32:05.519Z"
   },
   {
    "duration": 112,
    "start_time": "2023-09-19T07:11:44.076Z"
   },
   {
    "duration": 7,
    "start_time": "2023-09-19T07:12:34.382Z"
   },
   {
    "duration": 5,
    "start_time": "2023-09-19T07:43:22.718Z"
   },
   {
    "duration": 4,
    "start_time": "2023-09-19T07:43:41.126Z"
   },
   {
    "duration": 7,
    "start_time": "2023-09-19T07:43:44.526Z"
   },
   {
    "duration": 7,
    "start_time": "2023-09-19T07:44:14.526Z"
   },
   {
    "duration": 7,
    "start_time": "2023-09-19T07:46:04.896Z"
   },
   {
    "duration": 7,
    "start_time": "2023-09-19T07:47:04.014Z"
   },
   {
    "duration": 8,
    "start_time": "2023-09-19T07:57:07.237Z"
   },
   {
    "duration": 6,
    "start_time": "2023-09-19T07:58:10.902Z"
   },
   {
    "duration": 8,
    "start_time": "2023-09-19T08:03:52.114Z"
   },
   {
    "duration": 6,
    "start_time": "2023-09-19T08:04:36.690Z"
   },
   {
    "duration": 123,
    "start_time": "2023-09-19T08:05:14.567Z"
   },
   {
    "duration": 7,
    "start_time": "2023-09-19T08:05:24.570Z"
   },
   {
    "duration": 13,
    "start_time": "2023-09-19T08:16:37.924Z"
   },
   {
    "duration": 12,
    "start_time": "2023-09-19T08:17:23.762Z"
   },
   {
    "duration": 12,
    "start_time": "2023-09-19T08:17:35.637Z"
   },
   {
    "duration": 17,
    "start_time": "2023-09-19T08:20:49.008Z"
   },
   {
    "duration": 11,
    "start_time": "2023-09-19T08:20:53.765Z"
   },
   {
    "duration": 15,
    "start_time": "2023-09-19T08:21:52.030Z"
   },
   {
    "duration": 88,
    "start_time": "2023-09-19T08:22:37.387Z"
   },
   {
    "duration": 20,
    "start_time": "2023-09-19T08:22:46.590Z"
   },
   {
    "duration": 19,
    "start_time": "2023-09-19T08:23:58.143Z"
   },
   {
    "duration": 18,
    "start_time": "2023-09-19T08:24:29.785Z"
   },
   {
    "duration": 24,
    "start_time": "2023-09-19T08:24:35.948Z"
   },
   {
    "duration": 22,
    "start_time": "2023-09-19T08:26:18.498Z"
   },
   {
    "duration": 8,
    "start_time": "2023-09-19T08:26:54.896Z"
   },
   {
    "duration": 9,
    "start_time": "2023-09-19T08:28:29.676Z"
   },
   {
    "duration": 10,
    "start_time": "2023-09-19T08:31:03.636Z"
   },
   {
    "duration": 20,
    "start_time": "2023-09-19T08:33:50.396Z"
   },
   {
    "duration": 10,
    "start_time": "2023-09-19T08:43:51.088Z"
   },
   {
    "duration": 9,
    "start_time": "2023-09-19T08:44:57.146Z"
   },
   {
    "duration": 8,
    "start_time": "2023-09-19T08:46:12.899Z"
   },
   {
    "duration": 8,
    "start_time": "2023-09-19T08:46:31.881Z"
   },
   {
    "duration": 8,
    "start_time": "2023-09-19T08:52:03.067Z"
   },
   {
    "duration": 5,
    "start_time": "2023-09-19T08:55:46.019Z"
   },
   {
    "duration": 324,
    "start_time": "2023-09-19T09:02:14.114Z"
   },
   {
    "duration": 154,
    "start_time": "2023-09-19T09:03:33.540Z"
   },
   {
    "duration": 87580,
    "start_time": "2023-09-19T09:03:39.993Z"
   },
   {
    "duration": 0,
    "start_time": "2023-09-19T09:05:07.575Z"
   },
   {
    "duration": 309,
    "start_time": "2023-09-19T09:06:00.868Z"
   },
   {
    "duration": 305,
    "start_time": "2023-09-19T09:07:11.131Z"
   },
   {
    "duration": 109,
    "start_time": "2023-09-19T09:08:25.862Z"
   },
   {
    "duration": 17077,
    "start_time": "2023-09-19T09:08:32.869Z"
   },
   {
    "duration": 321,
    "start_time": "2023-09-19T09:11:14.460Z"
   },
   {
    "duration": 136,
    "start_time": "2023-09-19T09:11:29.581Z"
   },
   {
    "duration": 346,
    "start_time": "2023-09-19T09:11:39.923Z"
   },
   {
    "duration": 648,
    "start_time": "2023-09-19T09:11:44.640Z"
   },
   {
    "duration": 355,
    "start_time": "2023-09-19T09:12:13.639Z"
   },
   {
    "duration": 321,
    "start_time": "2023-09-19T09:12:34.159Z"
   },
   {
    "duration": 368,
    "start_time": "2023-09-19T09:13:13.200Z"
   },
   {
    "duration": 374,
    "start_time": "2023-09-19T09:13:58.304Z"
   },
   {
    "duration": 457,
    "start_time": "2023-09-19T09:25:07.968Z"
   },
   {
    "duration": 1639,
    "start_time": "2023-09-19T09:25:34.375Z"
   },
   {
    "duration": 1724,
    "start_time": "2023-09-19T09:26:45.592Z"
   },
   {
    "duration": 415,
    "start_time": "2023-09-19T09:30:13.461Z"
   },
   {
    "duration": 432,
    "start_time": "2023-09-19T09:30:32.060Z"
   },
   {
    "duration": 1270,
    "start_time": "2023-09-19T09:32:08.793Z"
   },
   {
    "duration": 482,
    "start_time": "2023-09-19T09:32:47.915Z"
   },
   {
    "duration": 547,
    "start_time": "2023-09-19T09:32:57.982Z"
   },
   {
    "duration": 476,
    "start_time": "2023-09-19T09:33:08.795Z"
   },
   {
    "duration": 583,
    "start_time": "2023-09-19T09:33:45.292Z"
   },
   {
    "duration": 550,
    "start_time": "2023-09-19T09:34:34.722Z"
   },
   {
    "duration": 573,
    "start_time": "2023-09-19T09:34:47.910Z"
   },
   {
    "duration": 544,
    "start_time": "2023-09-19T09:34:54.360Z"
   },
   {
    "duration": 665,
    "start_time": "2023-09-19T09:34:58.406Z"
   },
   {
    "duration": 16,
    "start_time": "2023-09-19T09:36:21.069Z"
   },
   {
    "duration": 552,
    "start_time": "2023-09-19T09:37:33.373Z"
   },
   {
    "duration": 590,
    "start_time": "2023-09-19T09:37:39.560Z"
   },
   {
    "duration": 557,
    "start_time": "2023-09-19T09:37:53.437Z"
   },
   {
    "duration": 570,
    "start_time": "2023-09-19T09:38:08.733Z"
   },
   {
    "duration": 690,
    "start_time": "2023-09-19T09:38:21.765Z"
   },
   {
    "duration": 564,
    "start_time": "2023-09-19T09:42:39.576Z"
   },
   {
    "duration": 12,
    "start_time": "2023-09-19T09:45:14.995Z"
   },
   {
    "duration": 4,
    "start_time": "2023-09-19T09:45:34.595Z"
   },
   {
    "duration": 4,
    "start_time": "2023-09-19T09:45:46.587Z"
   },
   {
    "duration": 509,
    "start_time": "2023-09-19T09:45:58.618Z"
   },
   {
    "duration": 650,
    "start_time": "2023-09-19T09:47:13.659Z"
   },
   {
    "duration": 546,
    "start_time": "2023-09-19T09:47:59.364Z"
   },
   {
    "duration": 564,
    "start_time": "2023-09-19T09:49:42.877Z"
   },
   {
    "duration": 715,
    "start_time": "2023-09-19T09:50:01.589Z"
   },
   {
    "duration": 562,
    "start_time": "2023-09-19T09:50:21.982Z"
   },
   {
    "duration": 201,
    "start_time": "2023-09-19T09:56:12.144Z"
   },
   {
    "duration": 5,
    "start_time": "2023-09-19T09:56:20.633Z"
   },
   {
    "duration": 14,
    "start_time": "2023-09-19T09:56:57.579Z"
   },
   {
    "duration": 4,
    "start_time": "2023-09-19T09:57:15.906Z"
   },
   {
    "duration": 800,
    "start_time": "2023-09-19T09:57:18.010Z"
   },
   {
    "duration": 3,
    "start_time": "2023-09-19T09:58:37.971Z"
   },
   {
    "duration": 10,
    "start_time": "2023-09-19T09:58:40.644Z"
   },
   {
    "duration": 4,
    "start_time": "2023-09-19T10:00:58.645Z"
   },
   {
    "duration": 7,
    "start_time": "2023-09-19T10:01:00.892Z"
   },
   {
    "duration": 8,
    "start_time": "2023-09-19T10:01:25.836Z"
   },
   {
    "duration": 17,
    "start_time": "2023-09-19T10:02:13.528Z"
   },
   {
    "duration": 8,
    "start_time": "2023-09-19T10:02:28.621Z"
   },
   {
    "duration": 7,
    "start_time": "2023-09-19T10:02:53.477Z"
   },
   {
    "duration": 17,
    "start_time": "2023-09-19T10:14:01.917Z"
   },
   {
    "duration": 23,
    "start_time": "2023-09-19T10:14:05.317Z"
   },
   {
    "duration": 17,
    "start_time": "2023-09-19T10:14:11.372Z"
   },
   {
    "duration": 27,
    "start_time": "2023-09-19T10:14:20.827Z"
   },
   {
    "duration": 22,
    "start_time": "2023-09-19T10:15:03.298Z"
   },
   {
    "duration": 84,
    "start_time": "2023-09-19T10:29:08.304Z"
   },
   {
    "duration": 22,
    "start_time": "2023-09-19T10:30:06.537Z"
   },
   {
    "duration": 17,
    "start_time": "2023-09-19T10:31:00.194Z"
   },
   {
    "duration": 21,
    "start_time": "2023-09-19T10:34:43.962Z"
   },
   {
    "duration": 31,
    "start_time": "2023-09-19T10:34:53.638Z"
   },
   {
    "duration": 517,
    "start_time": "2023-09-19T10:36:19.303Z"
   },
   {
    "duration": 641,
    "start_time": "2023-09-19T10:36:34.263Z"
   },
   {
    "duration": 566,
    "start_time": "2023-09-19T10:49:38.297Z"
   },
   {
    "duration": 603,
    "start_time": "2023-09-19T10:50:02.126Z"
   },
   {
    "duration": 601,
    "start_time": "2023-09-19T10:51:05.127Z"
   },
   {
    "duration": 14,
    "start_time": "2023-09-19T10:54:00.825Z"
   },
   {
    "duration": 34,
    "start_time": "2023-09-19T10:55:40.818Z"
   },
   {
    "duration": 16,
    "start_time": "2023-09-19T10:56:16.516Z"
   },
   {
    "duration": 15,
    "start_time": "2023-09-19T10:56:24.243Z"
   },
   {
    "duration": 15,
    "start_time": "2023-09-19T10:56:43.100Z"
   },
   {
    "duration": 5,
    "start_time": "2023-09-19T11:11:53.587Z"
   },
   {
    "duration": 9,
    "start_time": "2023-09-19T11:11:55.699Z"
   },
   {
    "duration": 8,
    "start_time": "2023-09-19T11:12:08.506Z"
   },
   {
    "duration": 1742,
    "start_time": "2023-09-19T11:13:28.259Z"
   },
   {
    "duration": 32,
    "start_time": "2023-09-19T11:13:30.003Z"
   },
   {
    "duration": 6,
    "start_time": "2023-09-19T11:13:30.038Z"
   },
   {
    "duration": 124,
    "start_time": "2023-09-19T11:13:30.046Z"
   },
   {
    "duration": 4,
    "start_time": "2023-09-19T11:13:30.172Z"
   },
   {
    "duration": 571,
    "start_time": "2023-09-19T11:13:30.178Z"
   },
   {
    "duration": 55,
    "start_time": "2023-09-19T11:13:30.751Z"
   },
   {
    "duration": 17,
    "start_time": "2023-09-19T11:13:30.808Z"
   },
   {
    "duration": 33,
    "start_time": "2023-09-19T11:13:30.848Z"
   },
   {
    "duration": 105,
    "start_time": "2023-09-19T11:13:30.883Z"
   },
   {
    "duration": 114,
    "start_time": "2023-09-19T11:13:30.990Z"
   },
   {
    "duration": 230,
    "start_time": "2023-09-19T11:13:31.105Z"
   },
   {
    "duration": 260,
    "start_time": "2023-09-19T11:13:31.338Z"
   },
   {
    "duration": 18304,
    "start_time": "2023-09-19T11:13:31.601Z"
   },
   {
    "duration": 447,
    "start_time": "2023-09-19T11:13:49.907Z"
   },
   {
    "duration": 250,
    "start_time": "2023-09-19T11:13:50.356Z"
   },
   {
    "duration": 6,
    "start_time": "2023-09-19T11:13:50.608Z"
   },
   {
    "duration": 18,
    "start_time": "2023-09-19T11:13:50.616Z"
   },
   {
    "duration": 13,
    "start_time": "2023-09-19T11:13:50.647Z"
   },
   {
    "duration": 21,
    "start_time": "2023-09-19T11:13:50.663Z"
   },
   {
    "duration": 29,
    "start_time": "2023-09-19T11:13:50.686Z"
   },
   {
    "duration": 12,
    "start_time": "2023-09-19T11:13:50.717Z"
   },
   {
    "duration": 4,
    "start_time": "2023-09-19T11:13:50.731Z"
   },
   {
    "duration": 14,
    "start_time": "2023-09-19T11:14:26.812Z"
   },
   {
    "duration": 20,
    "start_time": "2023-09-19T11:14:39.004Z"
   },
   {
    "duration": 18,
    "start_time": "2023-09-19T11:15:00.733Z"
   },
   {
    "duration": 16,
    "start_time": "2023-09-19T11:15:19.716Z"
   },
   {
    "duration": 17,
    "start_time": "2023-09-19T11:15:29.708Z"
   },
   {
    "duration": 20,
    "start_time": "2023-09-19T11:15:34.043Z"
   },
   {
    "duration": 1756,
    "start_time": "2023-09-19T11:43:11.550Z"
   },
   {
    "duration": 31,
    "start_time": "2023-09-19T11:43:13.308Z"
   },
   {
    "duration": 5,
    "start_time": "2023-09-19T11:43:13.340Z"
   },
   {
    "duration": 60,
    "start_time": "2023-09-19T11:43:13.347Z"
   },
   {
    "duration": 4,
    "start_time": "2023-09-19T11:43:13.409Z"
   },
   {
    "duration": 547,
    "start_time": "2023-09-19T11:43:13.415Z"
   },
   {
    "duration": 59,
    "start_time": "2023-09-19T11:43:13.963Z"
   },
   {
    "duration": 32,
    "start_time": "2023-09-19T11:43:14.023Z"
   },
   {
    "duration": 20,
    "start_time": "2023-09-19T11:43:14.057Z"
   },
   {
    "duration": 19,
    "start_time": "2023-09-19T11:43:14.080Z"
   },
   {
    "duration": 4,
    "start_time": "2023-09-19T11:43:14.101Z"
   },
   {
    "duration": 185,
    "start_time": "2023-09-19T11:43:14.107Z"
   },
   {
    "duration": 243,
    "start_time": "2023-09-19T11:43:14.294Z"
   },
   {
    "duration": 17141,
    "start_time": "2023-09-19T11:43:14.539Z"
   },
   {
    "duration": 354,
    "start_time": "2023-09-19T11:43:31.682Z"
   },
   {
    "duration": 235,
    "start_time": "2023-09-19T11:43:32.037Z"
   },
   {
    "duration": 6,
    "start_time": "2023-09-19T11:43:32.274Z"
   },
   {
    "duration": 161,
    "start_time": "2023-09-19T11:43:32.281Z"
   },
   {
    "duration": 57,
    "start_time": "2023-09-19T11:43:32.444Z"
   },
   {
    "duration": 184,
    "start_time": "2023-09-19T11:43:32.503Z"
   },
   {
    "duration": 38,
    "start_time": "2023-09-19T11:43:32.689Z"
   },
   {
    "duration": 61,
    "start_time": "2023-09-19T11:43:32.729Z"
   },
   {
    "duration": 92,
    "start_time": "2023-09-19T11:43:32.792Z"
   },
   {
    "duration": 602,
    "start_time": "2023-09-19T11:46:36.647Z"
   },
   {
    "duration": 658,
    "start_time": "2023-09-19T11:46:56.444Z"
   },
   {
    "duration": 567,
    "start_time": "2023-09-19T11:47:21.143Z"
   },
   {
    "duration": 567,
    "start_time": "2023-09-19T11:47:37.613Z"
   },
   {
    "duration": 622,
    "start_time": "2023-09-19T11:49:08.014Z"
   },
   {
    "duration": 1673,
    "start_time": "2023-09-19T11:59:49.451Z"
   },
   {
    "duration": 31,
    "start_time": "2023-09-19T11:59:51.126Z"
   },
   {
    "duration": 6,
    "start_time": "2023-09-19T11:59:51.159Z"
   },
   {
    "duration": 54,
    "start_time": "2023-09-19T11:59:51.167Z"
   },
   {
    "duration": 12,
    "start_time": "2023-09-19T11:59:51.222Z"
   },
   {
    "duration": 551,
    "start_time": "2023-09-19T11:59:51.235Z"
   },
   {
    "duration": 63,
    "start_time": "2023-09-19T11:59:51.789Z"
   },
   {
    "duration": 20,
    "start_time": "2023-09-19T11:59:51.854Z"
   },
   {
    "duration": 52,
    "start_time": "2023-09-19T11:59:51.876Z"
   },
   {
    "duration": 38,
    "start_time": "2023-09-19T11:59:51.932Z"
   },
   {
    "duration": 27,
    "start_time": "2023-09-19T11:59:51.972Z"
   },
   {
    "duration": 209,
    "start_time": "2023-09-19T11:59:52.001Z"
   },
   {
    "duration": 243,
    "start_time": "2023-09-19T11:59:52.212Z"
   },
   {
    "duration": 17598,
    "start_time": "2023-09-19T11:59:52.456Z"
   },
   {
    "duration": 391,
    "start_time": "2023-09-19T12:00:10.056Z"
   },
   {
    "duration": 247,
    "start_time": "2023-09-19T12:00:10.449Z"
   },
   {
    "duration": 6,
    "start_time": "2023-09-19T12:00:10.698Z"
   },
   {
    "duration": 59,
    "start_time": "2023-09-19T12:00:10.705Z"
   },
   {
    "duration": 30,
    "start_time": "2023-09-19T12:00:10.766Z"
   },
   {
    "duration": 56,
    "start_time": "2023-09-19T12:00:10.798Z"
   },
   {
    "duration": 82,
    "start_time": "2023-09-19T12:00:10.857Z"
   },
   {
    "duration": 65,
    "start_time": "2023-09-19T12:00:10.941Z"
   },
   {
    "duration": 42,
    "start_time": "2023-09-19T12:00:11.008Z"
   },
   {
    "duration": 526,
    "start_time": "2023-09-26T12:22:12.509Z"
   },
   {
    "duration": 0,
    "start_time": "2023-09-26T12:22:13.038Z"
   },
   {
    "duration": 0,
    "start_time": "2023-09-26T12:22:13.039Z"
   },
   {
    "duration": 0,
    "start_time": "2023-09-26T12:22:13.041Z"
   },
   {
    "duration": 0,
    "start_time": "2023-09-26T12:22:13.043Z"
   },
   {
    "duration": 0,
    "start_time": "2023-09-26T12:22:13.044Z"
   },
   {
    "duration": 0,
    "start_time": "2023-09-26T12:22:13.046Z"
   },
   {
    "duration": 0,
    "start_time": "2023-09-26T12:22:13.047Z"
   },
   {
    "duration": 0,
    "start_time": "2023-09-26T12:22:13.049Z"
   },
   {
    "duration": 8,
    "start_time": "2023-09-26T12:22:28.706Z"
   },
   {
    "duration": 12,
    "start_time": "2023-09-26T12:23:05.629Z"
   },
   {
    "duration": 1948,
    "start_time": "2023-09-26T12:24:54.789Z"
   },
   {
    "duration": 6,
    "start_time": "2023-09-26T12:27:16.727Z"
   },
   {
    "duration": 6,
    "start_time": "2023-09-26T12:34:03.600Z"
   },
   {
    "duration": 145,
    "start_time": "2023-09-26T12:34:03.609Z"
   },
   {
    "duration": 6,
    "start_time": "2023-09-26T12:34:03.760Z"
   },
   {
    "duration": 56,
    "start_time": "2023-09-26T12:34:03.768Z"
   },
   {
    "duration": 5,
    "start_time": "2023-09-26T12:34:03.828Z"
   },
   {
    "duration": 881,
    "start_time": "2023-09-26T12:34:03.835Z"
   },
   {
    "duration": 101,
    "start_time": "2023-09-26T12:34:04.718Z"
   },
   {
    "duration": 24,
    "start_time": "2023-09-26T12:34:04.822Z"
   },
   {
    "duration": 57,
    "start_time": "2023-09-26T12:34:04.848Z"
   },
   {
    "duration": 33,
    "start_time": "2023-09-26T12:34:04.908Z"
   },
   {
    "duration": 18,
    "start_time": "2023-09-26T12:35:36.034Z"
   },
   {
    "duration": 7,
    "start_time": "2023-09-26T12:36:05.891Z"
   },
   {
    "duration": 73,
    "start_time": "2023-09-26T12:37:05.434Z"
   },
   {
    "duration": 6,
    "start_time": "2023-09-26T12:37:41.110Z"
   },
   {
    "duration": 5,
    "start_time": "2023-09-26T12:38:22.669Z"
   },
   {
    "duration": 5,
    "start_time": "2023-09-26T12:38:27.868Z"
   },
   {
    "duration": 50,
    "start_time": "2023-09-26T12:38:27.876Z"
   },
   {
    "duration": 6,
    "start_time": "2023-09-26T12:38:27.929Z"
   },
   {
    "duration": 73,
    "start_time": "2023-09-26T12:38:27.937Z"
   },
   {
    "duration": 5,
    "start_time": "2023-09-26T12:38:28.014Z"
   },
   {
    "duration": 870,
    "start_time": "2023-09-26T12:38:28.021Z"
   },
   {
    "duration": 28,
    "start_time": "2023-09-26T12:38:28.895Z"
   },
   {
    "duration": 17,
    "start_time": "2023-09-26T12:38:28.925Z"
   },
   {
    "duration": 57,
    "start_time": "2023-09-26T12:38:28.944Z"
   },
   {
    "duration": 30,
    "start_time": "2023-09-26T12:38:29.004Z"
   },
   {
    "duration": 21,
    "start_time": "2023-09-26T12:38:37.389Z"
   },
   {
    "duration": 16,
    "start_time": "2023-09-26T12:45:00.141Z"
   },
   {
    "duration": 6,
    "start_time": "2023-09-26T12:45:09.543Z"
   },
   {
    "duration": 54,
    "start_time": "2023-09-26T12:45:09.551Z"
   },
   {
    "duration": 6,
    "start_time": "2023-09-26T12:45:09.606Z"
   },
   {
    "duration": 31,
    "start_time": "2023-09-26T12:45:09.613Z"
   },
   {
    "duration": 4,
    "start_time": "2023-09-26T12:45:09.647Z"
   },
   {
    "duration": 681,
    "start_time": "2023-09-26T12:45:09.653Z"
   },
   {
    "duration": 23,
    "start_time": "2023-09-26T12:45:10.337Z"
   },
   {
    "duration": 30,
    "start_time": "2023-09-26T12:45:10.383Z"
   },
   {
    "duration": 37,
    "start_time": "2023-09-26T12:45:10.415Z"
   },
   {
    "duration": 33,
    "start_time": "2023-09-26T12:45:10.486Z"
   },
   {
    "duration": 13,
    "start_time": "2023-09-26T12:45:10.522Z"
   },
   {
    "duration": 14,
    "start_time": "2023-09-26T12:45:13.344Z"
   },
   {
    "duration": 17,
    "start_time": "2023-09-26T12:49:56.890Z"
   },
   {
    "duration": 12,
    "start_time": "2023-09-26T12:52:35.126Z"
   },
   {
    "duration": 5,
    "start_time": "2023-09-26T12:52:39.134Z"
   },
   {
    "duration": 11,
    "start_time": "2023-09-26T12:53:11.652Z"
   },
   {
    "duration": 29,
    "start_time": "2023-09-26T12:53:28.868Z"
   },
   {
    "duration": 13,
    "start_time": "2023-09-26T12:54:11.228Z"
   },
   {
    "duration": 14,
    "start_time": "2023-09-26T12:54:21.517Z"
   },
   {
    "duration": 11,
    "start_time": "2023-09-26T12:54:28.771Z"
   },
   {
    "duration": 17,
    "start_time": "2023-09-26T12:56:32.181Z"
   },
   {
    "duration": 19,
    "start_time": "2023-09-26T12:57:09.877Z"
   },
   {
    "duration": 15,
    "start_time": "2023-09-26T13:02:21.667Z"
   },
   {
    "duration": 16,
    "start_time": "2023-09-26T13:02:35.001Z"
   },
   {
    "duration": 4,
    "start_time": "2023-09-26T13:02:42.573Z"
   },
   {
    "duration": 51,
    "start_time": "2023-09-26T13:02:42.579Z"
   },
   {
    "duration": 5,
    "start_time": "2023-09-26T13:02:42.631Z"
   },
   {
    "duration": 35,
    "start_time": "2023-09-26T13:02:42.638Z"
   },
   {
    "duration": 5,
    "start_time": "2023-09-26T13:02:42.676Z"
   },
   {
    "duration": 589,
    "start_time": "2023-09-26T13:02:42.683Z"
   },
   {
    "duration": 31,
    "start_time": "2023-09-26T13:02:43.273Z"
   },
   {
    "duration": 97,
    "start_time": "2023-09-26T13:02:43.307Z"
   },
   {
    "duration": 77,
    "start_time": "2023-09-26T13:02:43.406Z"
   },
   {
    "duration": 70,
    "start_time": "2023-09-26T13:02:43.485Z"
   },
   {
    "duration": 88,
    "start_time": "2023-09-26T13:02:43.556Z"
   },
   {
    "duration": 20,
    "start_time": "2023-09-26T13:02:46.329Z"
   },
   {
    "duration": 12,
    "start_time": "2023-09-26T13:05:15.399Z"
   },
   {
    "duration": 14,
    "start_time": "2023-09-26T13:05:33.521Z"
   },
   {
    "duration": 32,
    "start_time": "2023-09-26T13:06:10.033Z"
   },
   {
    "duration": 13,
    "start_time": "2023-09-26T13:06:37.634Z"
   },
   {
    "duration": 39,
    "start_time": "2023-09-26T13:06:42.573Z"
   },
   {
    "duration": 4,
    "start_time": "2023-09-26T13:21:45.114Z"
   },
   {
    "duration": 59,
    "start_time": "2023-09-26T13:21:45.120Z"
   },
   {
    "duration": 10,
    "start_time": "2023-09-26T13:21:45.209Z"
   },
   {
    "duration": 45,
    "start_time": "2023-09-26T13:21:45.222Z"
   },
   {
    "duration": 5,
    "start_time": "2023-09-26T13:21:45.269Z"
   },
   {
    "duration": 576,
    "start_time": "2023-09-26T13:21:45.276Z"
   },
   {
    "duration": 29,
    "start_time": "2023-09-26T13:21:45.854Z"
   },
   {
    "duration": 19,
    "start_time": "2023-09-26T13:21:45.886Z"
   },
   {
    "duration": 28,
    "start_time": "2023-09-26T13:21:45.908Z"
   },
   {
    "duration": 60,
    "start_time": "2023-09-26T13:21:45.937Z"
   },
   {
    "duration": 16,
    "start_time": "2023-09-26T13:21:46.000Z"
   },
   {
    "duration": 34,
    "start_time": "2023-09-26T13:21:46.018Z"
   },
   {
    "duration": 3,
    "start_time": "2023-09-26T13:21:46.054Z"
   },
   {
    "duration": 1684,
    "start_time": "2023-09-26T13:22:56.374Z"
   },
   {
    "duration": 36,
    "start_time": "2023-09-26T13:22:58.061Z"
   },
   {
    "duration": 18,
    "start_time": "2023-09-26T13:22:58.099Z"
   },
   {
    "duration": 58,
    "start_time": "2023-09-26T13:22:58.119Z"
   },
   {
    "duration": 5,
    "start_time": "2023-09-26T13:22:58.180Z"
   },
   {
    "duration": 543,
    "start_time": "2023-09-26T13:22:58.188Z"
   },
   {
    "duration": 66,
    "start_time": "2023-09-26T13:22:58.733Z"
   },
   {
    "duration": 23,
    "start_time": "2023-09-26T13:22:58.802Z"
   },
   {
    "duration": 23,
    "start_time": "2023-09-26T13:22:58.826Z"
   },
   {
    "duration": 61,
    "start_time": "2023-09-26T13:22:58.850Z"
   },
   {
    "duration": 13,
    "start_time": "2023-09-26T13:22:58.913Z"
   },
   {
    "duration": 65,
    "start_time": "2023-09-26T13:22:58.928Z"
   },
   {
    "duration": 8,
    "start_time": "2023-09-26T13:22:58.996Z"
   },
   {
    "duration": 182,
    "start_time": "2023-09-26T13:23:02.338Z"
   },
   {
    "duration": 252,
    "start_time": "2023-09-26T13:31:00.914Z"
   },
   {
    "duration": 480,
    "start_time": "2023-09-26T13:33:54.389Z"
   },
   {
    "duration": 432,
    "start_time": "2023-09-26T13:34:54.113Z"
   },
   {
    "duration": 328,
    "start_time": "2023-09-26T13:37:04.498Z"
   },
   {
    "duration": 320,
    "start_time": "2023-09-26T13:37:22.254Z"
   },
   {
    "duration": 16607,
    "start_time": "2023-09-26T13:39:12.080Z"
   },
   {
    "duration": 334,
    "start_time": "2023-09-26T13:39:28.689Z"
   },
   {
    "duration": 3,
    "start_time": "2023-09-26T13:42:53.758Z"
   },
   {
    "duration": 21,
    "start_time": "2023-09-26T13:42:55.946Z"
   },
   {
    "duration": 997,
    "start_time": "2023-09-26T13:43:43.581Z"
   },
   {
    "duration": 1013,
    "start_time": "2023-09-26T13:44:11.642Z"
   },
   {
    "duration": 1875,
    "start_time": "2023-09-26T13:44:43.619Z"
   },
   {
    "duration": 2038,
    "start_time": "2023-09-26T13:45:03.246Z"
   },
   {
    "duration": 1976,
    "start_time": "2023-09-26T13:45:59.866Z"
   },
   {
    "duration": 2075,
    "start_time": "2023-09-26T13:47:30.095Z"
   },
   {
    "duration": 92,
    "start_time": "2023-09-26T13:49:21.206Z"
   },
   {
    "duration": 8,
    "start_time": "2023-09-26T13:49:26.247Z"
   },
   {
    "duration": 7,
    "start_time": "2023-09-26T13:50:29.831Z"
   },
   {
    "duration": 9,
    "start_time": "2023-09-26T13:50:44.883Z"
   },
   {
    "duration": 128,
    "start_time": "2023-09-26T13:52:13.264Z"
   },
   {
    "duration": 93,
    "start_time": "2023-09-26T13:52:22.261Z"
   },
   {
    "duration": 88,
    "start_time": "2023-09-26T13:55:03.327Z"
   },
   {
    "duration": 135,
    "start_time": "2023-09-26T13:55:15.843Z"
   },
   {
    "duration": 4,
    "start_time": "2023-09-26T13:55:22.222Z"
   },
   {
    "duration": 11,
    "start_time": "2023-09-26T13:59:47.157Z"
   },
   {
    "duration": 12,
    "start_time": "2023-09-26T14:09:28.570Z"
   },
   {
    "duration": 1645,
    "start_time": "2023-09-26T14:09:50.139Z"
   },
   {
    "duration": 32,
    "start_time": "2023-09-26T14:09:51.786Z"
   },
   {
    "duration": 22,
    "start_time": "2023-09-26T14:09:51.820Z"
   },
   {
    "duration": 58,
    "start_time": "2023-09-26T14:09:51.844Z"
   },
   {
    "duration": 4,
    "start_time": "2023-09-26T14:09:51.905Z"
   },
   {
    "duration": 575,
    "start_time": "2023-09-26T14:09:51.911Z"
   },
   {
    "duration": 56,
    "start_time": "2023-09-26T14:09:52.488Z"
   },
   {
    "duration": 36,
    "start_time": "2023-09-26T14:09:52.546Z"
   },
   {
    "duration": 23,
    "start_time": "2023-09-26T14:09:52.584Z"
   },
   {
    "duration": 21,
    "start_time": "2023-09-26T14:09:52.609Z"
   },
   {
    "duration": 23,
    "start_time": "2023-09-26T14:09:52.632Z"
   },
   {
    "duration": 49,
    "start_time": "2023-09-26T14:09:52.657Z"
   },
   {
    "duration": 7,
    "start_time": "2023-09-26T14:09:52.708Z"
   },
   {
    "duration": 1119,
    "start_time": "2023-09-26T14:09:52.718Z"
   },
   {
    "duration": 2118,
    "start_time": "2023-09-26T14:09:53.840Z"
   },
   {
    "duration": 16678,
    "start_time": "2023-09-26T14:09:55.960Z"
   },
   {
    "duration": 337,
    "start_time": "2023-09-26T14:10:12.640Z"
   },
   {
    "duration": 116,
    "start_time": "2023-09-26T14:10:12.979Z"
   },
   {
    "duration": 8,
    "start_time": "2023-09-26T14:10:13.097Z"
   },
   {
    "duration": 44,
    "start_time": "2023-09-26T14:10:13.107Z"
   },
   {
    "duration": 9,
    "start_time": "2023-09-26T14:10:13.154Z"
   },
   {
    "duration": 15,
    "start_time": "2023-09-26T14:10:13.166Z"
   },
   {
    "duration": 14,
    "start_time": "2023-09-26T14:10:13.184Z"
   },
   {
    "duration": 28,
    "start_time": "2023-09-26T14:10:13.200Z"
   },
   {
    "duration": 24,
    "start_time": "2023-09-26T14:10:13.230Z"
   },
   {
    "duration": 17,
    "start_time": "2023-09-26T14:10:13.256Z"
   },
   {
    "duration": 113,
    "start_time": "2023-09-26T14:12:42.196Z"
   },
   {
    "duration": 17,
    "start_time": "2023-09-26T14:13:47.427Z"
   },
   {
    "duration": 174,
    "start_time": "2023-09-26T14:15:08.653Z"
   },
   {
    "duration": 167,
    "start_time": "2023-09-26T14:17:22.176Z"
   },
   {
    "duration": 164,
    "start_time": "2023-09-26T14:23:03.953Z"
   },
   {
    "duration": 5,
    "start_time": "2023-09-26T14:24:33.561Z"
   },
   {
    "duration": 178,
    "start_time": "2023-09-26T14:25:02.352Z"
   },
   {
    "duration": 176,
    "start_time": "2023-09-26T14:25:25.988Z"
   },
   {
    "duration": 165,
    "start_time": "2023-09-26T14:25:36.385Z"
   },
   {
    "duration": 151,
    "start_time": "2023-09-26T14:26:03.537Z"
   },
   {
    "duration": 4,
    "start_time": "2023-09-26T14:27:11.813Z"
   },
   {
    "duration": 280,
    "start_time": "2023-09-26T14:27:13.957Z"
   },
   {
    "duration": 155,
    "start_time": "2023-09-26T14:27:20.067Z"
   },
   {
    "duration": 157,
    "start_time": "2023-09-26T14:27:53.133Z"
   },
   {
    "duration": 157,
    "start_time": "2023-09-26T14:28:01.350Z"
   },
   {
    "duration": 3167,
    "start_time": "2023-09-26T15:45:40.228Z"
   },
   {
    "duration": 927,
    "start_time": "2023-09-26T15:45:55.486Z"
   }
  ],
  "kernelspec": {
   "display_name": "Python 3 (ipykernel)",
   "language": "python",
   "name": "python3"
  },
  "language_info": {
   "codemirror_mode": {
    "name": "ipython",
    "version": 3
   },
   "file_extension": ".py",
   "mimetype": "text/x-python",
   "name": "python",
   "nbconvert_exporter": "python",
   "pygments_lexer": "ipython3",
   "version": "3.9.5"
  },
  "toc": {
   "base_numbering": 1,
   "nav_menu": {},
   "number_sections": true,
   "sideBar": true,
   "skip_h1_title": true,
   "title_cell": "Table of Contents",
   "title_sidebar": "Contents",
   "toc_cell": false,
   "toc_position": {},
   "toc_section_display": true,
   "toc_window_display": false
  }
 },
 "nbformat": 4,
 "nbformat_minor": 2
}
